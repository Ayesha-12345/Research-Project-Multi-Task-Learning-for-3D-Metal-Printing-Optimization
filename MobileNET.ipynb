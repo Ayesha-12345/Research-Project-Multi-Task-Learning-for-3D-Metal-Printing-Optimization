{
 "cells": [
  {
   "cell_type": "code",
   "execution_count": 1,
   "id": "09d8fe67",
   "metadata": {},
   "outputs": [
    {
     "name": "stderr",
     "output_type": "stream",
     "text": [
      "2023-07-02 16:57:16.359467: I tensorflow/core/util/util.cc:169] oneDNN custom operations are on. You may see slightly different numerical results due to floating-point round-off errors from different computation orders. To turn them off, set the environment variable `TF_ENABLE_ONEDNN_OPTS=0`.\n"
     ]
    },
    {
     "name": "stdout",
     "output_type": "stream",
     "text": [
      "Num GPUs Available:  1\n",
      "tensorflow version: 2.9.2\n",
      "PIL version: 7.1.2\n",
      "numpy version: 1.21.6\n",
      "matplotlib version: 3.2.2\n"
     ]
    }
   ],
   "source": [
    "import tensorflow as tf\n",
    "print(\"Num GPUs Available: \", len(tf.config.list_physical_devices('GPU')))\n",
    "print('tensorflow version:',tf.__version__)\n",
    "from tensorflow import keras\n",
    "from tensorflow.keras import layers\n",
    "from tensorflow.keras.models import Sequential\n",
    "from tensorflow.keras.preprocessing.image import ImageDataGenerator\n",
    "from tensorflow.keras.preprocessing import image\n",
    "\n",
    "import PIL\n",
    "print('PIL version:',PIL.__version__)\n",
    "import os\n",
    "import numpy as np\n",
    "print('numpy version:',np.__version__)\n",
    "import matplotlib\n",
    "import matplotlib.pyplot as plt\n",
    "print('matplotlib version:',matplotlib.__version__)\n",
    "import tensorflow_hub as hub\n",
    "from keras import applications\n",
    "\n",
    "import warnings\n",
    "warnings.filterwarnings(\"ignore\")\n",
    "\n",
    "# Shared Input Layer\n",
    "#from keras.utils import plot_model\n",
    "import tensorflow as tf\n",
    "from keras.models import Model\n",
    "from keras.layers import Input, Lambda\n",
    "from keras.layers import Dense\n",
    "from keras.layers import Flatten, Dropout, Dense\n",
    "from keras.layers.convolutional import Conv2D\n",
    "from keras.layers.pooling import MaxPooling2D\n",
    "from keras.layers import concatenate\n",
    "from keras import backend\n",
    "#from google.colab import drive\n",
    "from keras.callbacks import ModelCheckpoint\n",
    "\n",
    "from keras.preprocessing.image import ImageDataGenerator"
   ]
  },
  {
   "cell_type": "code",
   "execution_count": 2,
   "id": "fb8bf940",
   "metadata": {},
   "outputs": [
    {
     "name": "stdout",
     "output_type": "stream",
     "text": [
      "Sun Jul  2 16:57:19 2023       \n",
      "+-----------------------------------------------------------------------------+\n",
      "| NVIDIA-SMI 470.82.01    Driver Version: 470.82.01    CUDA Version: 11.4     |\n",
      "|-------------------------------+----------------------+----------------------+\n",
      "| GPU  Name        Persistence-M| Bus-Id        Disp.A | Volatile Uncorr. ECC |\n",
      "| Fan  Temp  Perf  Pwr:Usage/Cap|         Memory-Usage | GPU-Util  Compute M. |\n",
      "|                               |                      |               MIG M. |\n",
      "|===============================+======================+======================|\n",
      "|   0  Quadro RTX 4000     Off  | 00000000:3B:00.0  On |                  N/A |\n",
      "| 30%   54C    P8    13W / 125W |    261MiB /  7979MiB |      9%      Default |\n",
      "|                               |                      |                  N/A |\n",
      "+-------------------------------+----------------------+----------------------+\n",
      "                                                                               \n",
      "+-----------------------------------------------------------------------------+\n",
      "| Processes:                                                                  |\n",
      "|  GPU   GI   CI        PID   Type   Process name                  GPU Memory |\n",
      "|        ID   ID                                                   Usage      |\n",
      "|=============================================================================|\n",
      "|    0   N/A  N/A      2265      G   /usr/bin/X                        118MiB |\n",
      "|    0   N/A  N/A      4487      G   /usr/bin/gnome-shell               67MiB |\n",
      "|    0   N/A  N/A      5508      G   ...855563704541249292,131072       68MiB |\n",
      "+-----------------------------------------------------------------------------+\n"
     ]
    }
   ],
   "source": [
    "gpu_info = !nvidia-smi\n",
    "gpu_info = '\\n'.join(gpu_info)\n",
    "if gpu_info.find('failed') >= 0:\n",
    "  print('Not connected to a GPU')\n",
    "else:\n",
    "  print(gpu_info)"
   ]
  },
  {
   "cell_type": "code",
   "execution_count": 3,
   "id": "8cb273fb",
   "metadata": {},
   "outputs": [],
   "source": [
    "batch_size = 32\n",
    "img_height = 224\n",
    "img_width = 224"
   ]
  },
  {
   "cell_type": "code",
   "execution_count": 7,
   "id": "27ded253",
   "metadata": {},
   "outputs": [
    {
     "name": "stdout",
     "output_type": "stream",
     "text": [
      "Total images:  19360\n",
      "Training:  15488\n",
      "Validation:  1936\n",
      "Testing:  1936\n"
     ]
    }
   ],
   "source": [
    "# # Creating Train / Val / Test folders (One time use)\n",
    "import os\n",
    "import numpy as np\n",
    "import shutil\n",
    "import random\n",
    "root_dir = '/home/mishra/Documents/Ayesha/Ayesha 2/complete Dataset' # data root path\n",
    "classes_dir = ['BD Normal'] #total labels\n",
    "\n",
    "val_ratio = 0.10\n",
    "test_ratio = 0.10\n",
    "\n",
    "for cls in classes_dir:\n",
    "    os.makedirs(root_dir +'train_/' + cls)\n",
    "    os.makedirs(root_dir +'val_/' + cls)\n",
    "    os.makedirs(root_dir +'test_/' + cls)\n",
    "\n",
    "\n",
    "# Creating partitions of the data after shuffeling\n",
    "src = root_dir +'/'+cls # Folder to copy images from\n",
    "\n",
    "allFileNames = os.listdir(src)\n",
    "np.random.shuffle(allFileNames)\n",
    "train_FileNames, val_FileNames, test_FileNames = np.split(np.array(allFileNames),\n",
    "                                                          [int(len(allFileNames)* (1 - (val_ratio + test_ratio))), \n",
    "                                                           int(len(allFileNames)* (1 - test_ratio))])\n",
    "\n",
    "\n",
    "train_FileNames = [src+'/'+ name for name in train_FileNames.tolist()]\n",
    "val_FileNames = [src+'/' + name for name in val_FileNames.tolist()]\n",
    "test_FileNames = [src+'/' + name for name in test_FileNames.tolist()]\n",
    "\n",
    "print('Total images: ', len(allFileNames))\n",
    "print('Training: ', len(train_FileNames))\n",
    "print('Validation: ', len(val_FileNames))\n",
    "print('Testing: ', len(test_FileNames))\n",
    "\n",
    "# Copy-pasting images\n",
    "for cls in classes_dir:\n",
    "       # Copy-pasting images\n",
    "        for name in train_FileNames:\n",
    "              shutil.copy(name, root_dir +'train_/' + cls)\n",
    "\n",
    "        for name in val_FileNames:\n",
    "              shutil.copy(name, root_dir +'val_/' + cls)\n",
    "\n",
    "        for name in test_FileNames:\n",
    "               shutil.copy(name, root_dir +'test_/' + cls)"
   ]
  },
  {
   "cell_type": "code",
   "execution_count": 8,
   "id": "3b2beaa4",
   "metadata": {},
   "outputs": [
    {
     "name": "stdout",
     "output_type": "stream",
     "text": [
      "Total images:  16544\n",
      "Training:  13235\n",
      "Validation:  1654\n",
      "Testing:  1655\n"
     ]
    }
   ],
   "source": [
    "# # Creating Train / Val / Test folders (One time use)\n",
    "import os\n",
    "import numpy as np\n",
    "import shutil\n",
    "import random\n",
    "root_dir = '/home/mishra/Documents/Ayesha/Ayesha 2/complete Dataset' # data root path\n",
    "classes_dir = ['BD Parallel'] #total labels\n",
    "\n",
    "val_ratio = 0.10\n",
    "test_ratio = 0.10\n",
    "\n",
    "for cls in classes_dir:\n",
    "    os.makedirs(root_dir +'train_/' + cls)\n",
    "    os.makedirs(root_dir +'val_/' + cls)\n",
    "    os.makedirs(root_dir +'test_/' + cls)\n",
    "\n",
    "\n",
    "# Creating partitions of the data after shuffeling\n",
    "src = root_dir +'/'+cls # Folder to copy images from\n",
    "\n",
    "allFileNames = os.listdir(src)\n",
    "np.random.shuffle(allFileNames)\n",
    "train_FileNames, val_FileNames, test_FileNames = np.split(np.array(allFileNames),\n",
    "                                                          [int(len(allFileNames)* (1 - (val_ratio + test_ratio))), \n",
    "                                                           int(len(allFileNames)* (1 - test_ratio))])\n",
    "\n",
    "\n",
    "train_FileNames = [src+'/'+ name for name in train_FileNames.tolist()]\n",
    "val_FileNames = [src+'/' + name for name in val_FileNames.tolist()]\n",
    "test_FileNames = [src+'/' + name for name in test_FileNames.tolist()]\n",
    "\n",
    "print('Total images: ', len(allFileNames))\n",
    "print('Training: ', len(train_FileNames))\n",
    "print('Validation: ', len(val_FileNames))\n",
    "print('Testing: ', len(test_FileNames))\n",
    "\n",
    "for cls in classes_dir:\n",
    "       # Copy-pasting images\n",
    "        for name in train_FileNames:\n",
    "              shutil.copy(name, root_dir +'train_/' + cls)\n",
    "\n",
    "        for name in val_FileNames:\n",
    "              shutil.copy(name, root_dir +'val_/' + cls)\n",
    "\n",
    "        for name in test_FileNames:\n",
    "               shutil.copy(name, root_dir +'test_/' + cls)"
   ]
  },
  {
   "cell_type": "code",
   "execution_count": 9,
   "id": "08a993c0",
   "metadata": {},
   "outputs": [],
   "source": [
    "train_datagen = ImageDataGenerator(rescale=1./255)"
   ]
  },
  {
   "cell_type": "code",
   "execution_count": 10,
   "id": "ff89e21e",
   "metadata": {},
   "outputs": [
    {
     "name": "stdout",
     "output_type": "stream",
     "text": [
      "Found 28723 images belonging to 2 classes.\n"
     ]
    }
   ],
   "source": [
    "train_dataset = train_datagen.flow_from_directory(\n",
    "        '/home/mishra/Documents/Ayesha/Ayesha 2/complete Datasettrain_',\n",
    "        target_size=(224, 224),\n",
    "        batch_size=batch_size,\n",
    "        shuffle=True,\n",
    "        class_mode='categorical',\n",
    "         color_mode = 'rgb')"
   ]
  },
  {
   "cell_type": "code",
   "execution_count": 11,
   "id": "6f1c75f2",
   "metadata": {},
   "outputs": [],
   "source": [
    "validation_datagen = ImageDataGenerator(rescale=1./255)"
   ]
  },
  {
   "cell_type": "code",
   "execution_count": 12,
   "id": "3c433cb0",
   "metadata": {},
   "outputs": [
    {
     "name": "stdout",
     "output_type": "stream",
     "text": [
      "Found 3590 images belonging to 2 classes.\n"
     ]
    }
   ],
   "source": [
    "validation_dataset = validation_datagen.flow_from_directory(\n",
    "        '/home/mishra/Documents/Ayesha/Ayesha 2/complete Datasetval_',\n",
    "        target_size=(224, 224),\n",
    "        batch_size=batch_size,\n",
    "        shuffle=False,\n",
    "        class_mode='categorical',\n",
    "         color_mode = 'rgb')\n"
   ]
  },
  {
   "cell_type": "code",
   "execution_count": 15,
   "id": "188ea9d8",
   "metadata": {},
   "outputs": [],
   "source": [
    "test_datagen = ImageDataGenerator(rescale=1./255)"
   ]
  },
  {
   "cell_type": "code",
   "execution_count": 16,
   "id": "426e2aea",
   "metadata": {},
   "outputs": [
    {
     "name": "stdout",
     "output_type": "stream",
     "text": [
      "Found 3591 images belonging to 2 classes.\n"
     ]
    }
   ],
   "source": [
    "test_dataset = test_datagen.flow_from_directory(\n",
    "     '/home/mishra/Documents/Ayesha/Ayesha 2/complete Datasettest_',\n",
    "    target_size=(224, 224),\n",
    "    batch_size=batch_size,\n",
    "    shuffle=False,\n",
    "        class_mode='categorical',\n",
    "         color_mode = 'rgb')"
   ]
  },
  {
   "cell_type": "code",
   "execution_count": 17,
   "id": "81796272",
   "metadata": {},
   "outputs": [
    {
     "name": "stdout",
     "output_type": "stream",
     "text": [
      "(32, 224, 224, 3)\n",
      "(32, 2)\n"
     ]
    }
   ],
   "source": [
    "for image_batch, label_batch in train_dataset:\n",
    "    print(image_batch.shape)\n",
    "    print(label_batch.shape)\n",
    "    break"
   ]
  },
  {
   "cell_type": "code",
   "execution_count": 18,
   "id": "6c5fd4d7",
   "metadata": {},
   "outputs": [
    {
     "name": "stdout",
     "output_type": "stream",
     "text": [
      "{'BD Normal': 0, 'BD Parallel': 1}\n",
      "{'BD Normal': 0, 'BD Parallel': 1}\n"
     ]
    }
   ],
   "source": [
    "class_names_train = train_dataset.class_indices\n",
    "print(class_names_train)\n",
    "class_names_validation = validation_dataset.class_indices\n",
    "print(class_names_validation)"
   ]
  },
  {
   "cell_type": "code",
   "execution_count": 19,
   "id": "8f1d8064",
   "metadata": {},
   "outputs": [
    {
     "name": "stderr",
     "output_type": "stream",
     "text": [
      "2023-07-02 17:00:25.326477: I tensorflow/core/platform/cpu_feature_guard.cc:193] This TensorFlow binary is optimized with oneAPI Deep Neural Network Library (oneDNN) to use the following CPU instructions in performance-critical operations:  AVX2 AVX512F AVX512_VNNI FMA\n",
      "To enable them in other operations, rebuild TensorFlow with the appropriate compiler flags.\n",
      "2023-07-02 17:00:26.192100: I tensorflow/core/common_runtime/gpu/gpu_device.cc:1532] Created device /job:localhost/replica:0/task:0/device:GPU:0 with 6389 MB memory:  -> device: 0, name: Quadro RTX 4000, pci bus id: 0000:3b:00.0, compute capability: 7.5\n"
     ]
    }
   ],
   "source": [
    "base_model1 = tf.keras.applications.MobileNet(weights='imagenet',\n",
    "                                include_top=False, \n",
    "                                input_shape=(224, 224,3))"
   ]
  },
  {
   "cell_type": "code",
   "execution_count": 20,
   "id": "ab572b37",
   "metadata": {},
   "outputs": [
    {
     "name": "stdout",
     "output_type": "stream",
     "text": [
      "Model: \"mobilenet_1.00_224\"\n",
      "_________________________________________________________________\n",
      " Layer (type)                Output Shape              Param #   \n",
      "=================================================================\n",
      " input_1 (InputLayer)        [(None, 224, 224, 3)]     0         \n",
      "                                                                 \n",
      " conv1 (Conv2D)              (None, 112, 112, 32)      864       \n",
      "                                                                 \n",
      " conv1_bn (BatchNormalizatio  (None, 112, 112, 32)     128       \n",
      " n)                                                              \n",
      "                                                                 \n",
      " conv1_relu (ReLU)           (None, 112, 112, 32)      0         \n",
      "                                                                 \n",
      " conv_dw_1 (DepthwiseConv2D)  (None, 112, 112, 32)     288       \n",
      "                                                                 \n",
      " conv_dw_1_bn (BatchNormaliz  (None, 112, 112, 32)     128       \n",
      " ation)                                                          \n",
      "                                                                 \n",
      " conv_dw_1_relu (ReLU)       (None, 112, 112, 32)      0         \n",
      "                                                                 \n",
      " conv_pw_1 (Conv2D)          (None, 112, 112, 64)      2048      \n",
      "                                                                 \n",
      " conv_pw_1_bn (BatchNormaliz  (None, 112, 112, 64)     256       \n",
      " ation)                                                          \n",
      "                                                                 \n",
      " conv_pw_1_relu (ReLU)       (None, 112, 112, 64)      0         \n",
      "                                                                 \n",
      " conv_pad_2 (ZeroPadding2D)  (None, 113, 113, 64)      0         \n",
      "                                                                 \n",
      " conv_dw_2 (DepthwiseConv2D)  (None, 56, 56, 64)       576       \n",
      "                                                                 \n",
      " conv_dw_2_bn (BatchNormaliz  (None, 56, 56, 64)       256       \n",
      " ation)                                                          \n",
      "                                                                 \n",
      " conv_dw_2_relu (ReLU)       (None, 56, 56, 64)        0         \n",
      "                                                                 \n",
      " conv_pw_2 (Conv2D)          (None, 56, 56, 128)       8192      \n",
      "                                                                 \n",
      " conv_pw_2_bn (BatchNormaliz  (None, 56, 56, 128)      512       \n",
      " ation)                                                          \n",
      "                                                                 \n",
      " conv_pw_2_relu (ReLU)       (None, 56, 56, 128)       0         \n",
      "                                                                 \n",
      " conv_dw_3 (DepthwiseConv2D)  (None, 56, 56, 128)      1152      \n",
      "                                                                 \n",
      " conv_dw_3_bn (BatchNormaliz  (None, 56, 56, 128)      512       \n",
      " ation)                                                          \n",
      "                                                                 \n",
      " conv_dw_3_relu (ReLU)       (None, 56, 56, 128)       0         \n",
      "                                                                 \n",
      " conv_pw_3 (Conv2D)          (None, 56, 56, 128)       16384     \n",
      "                                                                 \n",
      " conv_pw_3_bn (BatchNormaliz  (None, 56, 56, 128)      512       \n",
      " ation)                                                          \n",
      "                                                                 \n",
      " conv_pw_3_relu (ReLU)       (None, 56, 56, 128)       0         \n",
      "                                                                 \n",
      " conv_pad_4 (ZeroPadding2D)  (None, 57, 57, 128)       0         \n",
      "                                                                 \n",
      " conv_dw_4 (DepthwiseConv2D)  (None, 28, 28, 128)      1152      \n",
      "                                                                 \n",
      " conv_dw_4_bn (BatchNormaliz  (None, 28, 28, 128)      512       \n",
      " ation)                                                          \n",
      "                                                                 \n",
      " conv_dw_4_relu (ReLU)       (None, 28, 28, 128)       0         \n",
      "                                                                 \n",
      " conv_pw_4 (Conv2D)          (None, 28, 28, 256)       32768     \n",
      "                                                                 \n",
      " conv_pw_4_bn (BatchNormaliz  (None, 28, 28, 256)      1024      \n",
      " ation)                                                          \n",
      "                                                                 \n",
      " conv_pw_4_relu (ReLU)       (None, 28, 28, 256)       0         \n",
      "                                                                 \n",
      " conv_dw_5 (DepthwiseConv2D)  (None, 28, 28, 256)      2304      \n",
      "                                                                 \n",
      " conv_dw_5_bn (BatchNormaliz  (None, 28, 28, 256)      1024      \n",
      " ation)                                                          \n",
      "                                                                 \n",
      " conv_dw_5_relu (ReLU)       (None, 28, 28, 256)       0         \n",
      "                                                                 \n",
      " conv_pw_5 (Conv2D)          (None, 28, 28, 256)       65536     \n",
      "                                                                 \n",
      " conv_pw_5_bn (BatchNormaliz  (None, 28, 28, 256)      1024      \n",
      " ation)                                                          \n",
      "                                                                 \n",
      " conv_pw_5_relu (ReLU)       (None, 28, 28, 256)       0         \n",
      "                                                                 \n",
      " conv_pad_6 (ZeroPadding2D)  (None, 29, 29, 256)       0         \n",
      "                                                                 \n",
      " conv_dw_6 (DepthwiseConv2D)  (None, 14, 14, 256)      2304      \n",
      "                                                                 \n",
      " conv_dw_6_bn (BatchNormaliz  (None, 14, 14, 256)      1024      \n",
      " ation)                                                          \n",
      "                                                                 \n",
      " conv_dw_6_relu (ReLU)       (None, 14, 14, 256)       0         \n",
      "                                                                 \n",
      " conv_pw_6 (Conv2D)          (None, 14, 14, 512)       131072    \n",
      "                                                                 \n",
      " conv_pw_6_bn (BatchNormaliz  (None, 14, 14, 512)      2048      \n",
      " ation)                                                          \n",
      "                                                                 \n",
      " conv_pw_6_relu (ReLU)       (None, 14, 14, 512)       0         \n",
      "                                                                 \n",
      " conv_dw_7 (DepthwiseConv2D)  (None, 14, 14, 512)      4608      \n",
      "                                                                 \n",
      " conv_dw_7_bn (BatchNormaliz  (None, 14, 14, 512)      2048      \n",
      " ation)                                                          \n",
      "                                                                 \n",
      " conv_dw_7_relu (ReLU)       (None, 14, 14, 512)       0         \n",
      "                                                                 \n",
      " conv_pw_7 (Conv2D)          (None, 14, 14, 512)       262144    \n",
      "                                                                 \n",
      " conv_pw_7_bn (BatchNormaliz  (None, 14, 14, 512)      2048      \n",
      " ation)                                                          \n",
      "                                                                 \n",
      " conv_pw_7_relu (ReLU)       (None, 14, 14, 512)       0         \n",
      "                                                                 \n",
      " conv_dw_8 (DepthwiseConv2D)  (None, 14, 14, 512)      4608      \n",
      "                                                                 \n",
      " conv_dw_8_bn (BatchNormaliz  (None, 14, 14, 512)      2048      \n",
      " ation)                                                          \n",
      "                                                                 \n",
      " conv_dw_8_relu (ReLU)       (None, 14, 14, 512)       0         \n",
      "                                                                 \n",
      " conv_pw_8 (Conv2D)          (None, 14, 14, 512)       262144    \n"
     ]
    },
    {
     "name": "stdout",
     "output_type": "stream",
     "text": [
      "                                                                 \n",
      " conv_pw_8_bn (BatchNormaliz  (None, 14, 14, 512)      2048      \n",
      " ation)                                                          \n",
      "                                                                 \n",
      " conv_pw_8_relu (ReLU)       (None, 14, 14, 512)       0         \n",
      "                                                                 \n",
      " conv_dw_9 (DepthwiseConv2D)  (None, 14, 14, 512)      4608      \n",
      "                                                                 \n",
      " conv_dw_9_bn (BatchNormaliz  (None, 14, 14, 512)      2048      \n",
      " ation)                                                          \n",
      "                                                                 \n",
      " conv_dw_9_relu (ReLU)       (None, 14, 14, 512)       0         \n",
      "                                                                 \n",
      " conv_pw_9 (Conv2D)          (None, 14, 14, 512)       262144    \n",
      "                                                                 \n",
      " conv_pw_9_bn (BatchNormaliz  (None, 14, 14, 512)      2048      \n",
      " ation)                                                          \n",
      "                                                                 \n",
      " conv_pw_9_relu (ReLU)       (None, 14, 14, 512)       0         \n",
      "                                                                 \n",
      " conv_dw_10 (DepthwiseConv2D  (None, 14, 14, 512)      4608      \n",
      " )                                                               \n",
      "                                                                 \n",
      " conv_dw_10_bn (BatchNormali  (None, 14, 14, 512)      2048      \n",
      " zation)                                                         \n",
      "                                                                 \n",
      " conv_dw_10_relu (ReLU)      (None, 14, 14, 512)       0         \n",
      "                                                                 \n",
      " conv_pw_10 (Conv2D)         (None, 14, 14, 512)       262144    \n",
      "                                                                 \n",
      " conv_pw_10_bn (BatchNormali  (None, 14, 14, 512)      2048      \n",
      " zation)                                                         \n",
      "                                                                 \n",
      " conv_pw_10_relu (ReLU)      (None, 14, 14, 512)       0         \n",
      "                                                                 \n",
      " conv_dw_11 (DepthwiseConv2D  (None, 14, 14, 512)      4608      \n",
      " )                                                               \n",
      "                                                                 \n",
      " conv_dw_11_bn (BatchNormali  (None, 14, 14, 512)      2048      \n",
      " zation)                                                         \n",
      "                                                                 \n",
      " conv_dw_11_relu (ReLU)      (None, 14, 14, 512)       0         \n",
      "                                                                 \n",
      " conv_pw_11 (Conv2D)         (None, 14, 14, 512)       262144    \n",
      "                                                                 \n",
      " conv_pw_11_bn (BatchNormali  (None, 14, 14, 512)      2048      \n",
      " zation)                                                         \n",
      "                                                                 \n",
      " conv_pw_11_relu (ReLU)      (None, 14, 14, 512)       0         \n",
      "                                                                 \n",
      " conv_pad_12 (ZeroPadding2D)  (None, 15, 15, 512)      0         \n",
      "                                                                 \n",
      " conv_dw_12 (DepthwiseConv2D  (None, 7, 7, 512)        4608      \n",
      " )                                                               \n",
      "                                                                 \n",
      " conv_dw_12_bn (BatchNormali  (None, 7, 7, 512)        2048      \n",
      " zation)                                                         \n",
      "                                                                 \n",
      " conv_dw_12_relu (ReLU)      (None, 7, 7, 512)         0         \n",
      "                                                                 \n",
      " conv_pw_12 (Conv2D)         (None, 7, 7, 1024)        524288    \n",
      "                                                                 \n",
      " conv_pw_12_bn (BatchNormali  (None, 7, 7, 1024)       4096      \n",
      " zation)                                                         \n",
      "                                                                 \n",
      " conv_pw_12_relu (ReLU)      (None, 7, 7, 1024)        0         \n",
      "                                                                 \n",
      " conv_dw_13 (DepthwiseConv2D  (None, 7, 7, 1024)       9216      \n",
      " )                                                               \n",
      "                                                                 \n",
      " conv_dw_13_bn (BatchNormali  (None, 7, 7, 1024)       4096      \n",
      " zation)                                                         \n",
      "                                                                 \n",
      " conv_dw_13_relu (ReLU)      (None, 7, 7, 1024)        0         \n",
      "                                                                 \n",
      " conv_pw_13 (Conv2D)         (None, 7, 7, 1024)        1048576   \n",
      "                                                                 \n",
      " conv_pw_13_bn (BatchNormali  (None, 7, 7, 1024)       4096      \n",
      " zation)                                                         \n",
      "                                                                 \n",
      " conv_pw_13_relu (ReLU)      (None, 7, 7, 1024)        0         \n",
      "                                                                 \n",
      "=================================================================\n",
      "Total params: 3,228,864\n",
      "Trainable params: 3,206,976\n",
      "Non-trainable params: 21,888\n",
      "_________________________________________________________________\n"
     ]
    }
   ],
   "source": [
    "base_model1.summary()"
   ]
  },
  {
   "cell_type": "code",
   "execution_count": 21,
   "id": "f3f7d9d9",
   "metadata": {},
   "outputs": [
    {
     "name": "stdout",
     "output_type": "stream",
     "text": [
      "Model: \"sequential\"\n",
      "_________________________________________________________________\n",
      " Layer (type)                Output Shape              Param #   \n",
      "=================================================================\n",
      " mobilenet_1.00_224 (Functio  (None, 7, 7, 1024)       3228864   \n",
      " nal)                                                            \n",
      "                                                                 \n",
      " flatten (Flatten)           (None, 50176)             0         \n",
      "                                                                 \n",
      " dropout (Dropout)           (None, 50176)             0         \n",
      "                                                                 \n",
      " dense (Dense)               (None, 2)                 100354    \n",
      "                                                                 \n",
      "=================================================================\n",
      "Total params: 3,329,218\n",
      "Trainable params: 3,307,330\n",
      "Non-trainable params: 21,888\n",
      "_________________________________________________________________\n"
     ]
    }
   ],
   "source": [
    "num = 2\n",
    "\n",
    "model1= tf.keras.Sequential([\n",
    "      base_model1,\n",
    "     layers.Flatten(),\n",
    "     #layers.Dense(512, activation='relu'),\n",
    "     layers.Dropout(0.5),\n",
    "  tf.keras.layers.Dense(num, activation = 'softmax' )\n",
    "])\n",
    "\n",
    "model1.summary()"
   ]
  },
  {
   "cell_type": "code",
   "execution_count": 22,
   "id": "f60c5860",
   "metadata": {
    "scrolled": true
   },
   "outputs": [
    {
     "name": "stdout",
     "output_type": "stream",
     "text": [
      "Epoch 1/50\n"
     ]
    },
    {
     "name": "stderr",
     "output_type": "stream",
     "text": [
      "2023-07-02 17:00:36.118686: I tensorflow/stream_executor/cuda/cuda_dnn.cc:384] Loaded cuDNN version 8100\n"
     ]
    },
    {
     "name": "stdout",
     "output_type": "stream",
     "text": [
      "898/898 [==============================] - 197s 212ms/step - loss: 0.4349 - acc: 0.8735 - val_loss: 0.0749 - val_acc: 0.9738\n",
      "Epoch 2/50\n",
      "898/898 [==============================] - 187s 208ms/step - loss: 0.1245 - acc: 0.9646 - val_loss: 0.0367 - val_acc: 0.9877\n",
      "Epoch 3/50\n",
      "898/898 [==============================] - 184s 204ms/step - loss: 0.0808 - acc: 0.9765 - val_loss: 0.0355 - val_acc: 0.9894\n",
      "Epoch 4/50\n",
      "898/898 [==============================] - 183s 204ms/step - loss: 0.0541 - acc: 0.9845 - val_loss: 0.0240 - val_acc: 0.9936\n",
      "Epoch 5/50\n",
      "898/898 [==============================] - 184s 205ms/step - loss: 0.0397 - acc: 0.9875 - val_loss: 0.0209 - val_acc: 0.9947\n",
      "Epoch 6/50\n",
      "898/898 [==============================] - 185s 206ms/step - loss: 0.0348 - acc: 0.9891 - val_loss: 0.0250 - val_acc: 0.9933\n",
      "Epoch 7/50\n",
      "898/898 [==============================] - 185s 205ms/step - loss: 0.0236 - acc: 0.9924 - val_loss: 0.0166 - val_acc: 0.9958\n",
      "Epoch 8/50\n",
      "898/898 [==============================] - 185s 206ms/step - loss: 0.0194 - acc: 0.9939 - val_loss: 0.0151 - val_acc: 0.9964\n",
      "Epoch 9/50\n",
      "898/898 [==============================] - 184s 205ms/step - loss: 0.0175 - acc: 0.9943 - val_loss: 0.0169 - val_acc: 0.9953\n",
      "Epoch 10/50\n",
      "898/898 [==============================] - 184s 205ms/step - loss: 0.0121 - acc: 0.9965 - val_loss: 0.0125 - val_acc: 0.9964\n",
      "Epoch 11/50\n",
      "898/898 [==============================] - 184s 204ms/step - loss: 0.0127 - acc: 0.9961 - val_loss: 0.0164 - val_acc: 0.9955\n",
      "Epoch 12/50\n",
      "898/898 [==============================] - 186s 207ms/step - loss: 0.0102 - acc: 0.9967 - val_loss: 0.0266 - val_acc: 0.9922\n",
      "Epoch 13/50\n",
      "898/898 [==============================] - 184s 205ms/step - loss: 0.0071 - acc: 0.9978 - val_loss: 0.0136 - val_acc: 0.9969\n",
      "Epoch 14/50\n",
      "898/898 [==============================] - 185s 206ms/step - loss: 0.0080 - acc: 0.9972 - val_loss: 0.0141 - val_acc: 0.9961\n",
      "Epoch 15/50\n",
      "898/898 [==============================] - 183s 203ms/step - loss: 0.0080 - acc: 0.9977 - val_loss: 0.0100 - val_acc: 0.9978\n",
      "Epoch 16/50\n",
      "898/898 [==============================] - 183s 204ms/step - loss: 0.0071 - acc: 0.9980 - val_loss: 0.0111 - val_acc: 0.9975\n",
      "Epoch 17/50\n",
      "898/898 [==============================] - 183s 204ms/step - loss: 0.0061 - acc: 0.9983 - val_loss: 0.0120 - val_acc: 0.9967\n",
      "Epoch 18/50\n",
      "898/898 [==============================] - 185s 206ms/step - loss: 0.0046 - acc: 0.9984 - val_loss: 0.0109 - val_acc: 0.9978\n",
      "Epoch 19/50\n",
      "898/898 [==============================] - 183s 203ms/step - loss: 0.0063 - acc: 0.9981 - val_loss: 0.0108 - val_acc: 0.9981\n",
      "Epoch 20/50\n",
      "898/898 [==============================] - 185s 206ms/step - loss: 0.0037 - acc: 0.9989 - val_loss: 0.0094 - val_acc: 0.9986\n",
      "Epoch 21/50\n",
      "898/898 [==============================] - 184s 205ms/step - loss: 0.0036 - acc: 0.9986 - val_loss: 0.0128 - val_acc: 0.9969\n",
      "Epoch 22/50\n",
      "898/898 [==============================] - 185s 206ms/step - loss: 0.0035 - acc: 0.9988 - val_loss: 0.0111 - val_acc: 0.9981\n",
      "Epoch 23/50\n",
      "898/898 [==============================] - 184s 204ms/step - loss: 0.0035 - acc: 0.9989 - val_loss: 0.0064 - val_acc: 0.9983\n",
      "Epoch 24/50\n",
      "898/898 [==============================] - 185s 205ms/step - loss: 0.0038 - acc: 0.9989 - val_loss: 0.0112 - val_acc: 0.9978\n",
      "Epoch 25/50\n",
      "898/898 [==============================] - 184s 204ms/step - loss: 0.0028 - acc: 0.9989 - val_loss: 0.0081 - val_acc: 0.9983\n",
      "Epoch 26/50\n",
      "898/898 [==============================] - 183s 204ms/step - loss: 0.0041 - acc: 0.9989 - val_loss: 0.0099 - val_acc: 0.9972\n",
      "Epoch 27/50\n",
      "898/898 [==============================] - 183s 203ms/step - loss: 0.0028 - acc: 0.9992 - val_loss: 0.0087 - val_acc: 0.9981\n",
      "Epoch 28/50\n",
      "898/898 [==============================] - 183s 204ms/step - loss: 0.0039 - acc: 0.9991 - val_loss: 0.0078 - val_acc: 0.9986\n",
      "Epoch 29/50\n",
      "898/898 [==============================] - 184s 205ms/step - loss: 0.0032 - acc: 0.9991 - val_loss: 0.0065 - val_acc: 0.9986\n",
      "Epoch 30/50\n",
      "898/898 [==============================] - 185s 206ms/step - loss: 0.0023 - acc: 0.9993 - val_loss: 0.0068 - val_acc: 0.9983\n",
      "Epoch 31/50\n",
      "898/898 [==============================] - 184s 204ms/step - loss: 0.0024 - acc: 0.9994 - val_loss: 0.0056 - val_acc: 0.9983\n",
      "Epoch 32/50\n",
      "898/898 [==============================] - 184s 205ms/step - loss: 0.0023 - acc: 0.9993 - val_loss: 0.0054 - val_acc: 0.9989\n",
      "Epoch 33/50\n",
      "898/898 [==============================] - 185s 206ms/step - loss: 0.0019 - acc: 0.9993 - val_loss: 0.0051 - val_acc: 0.9986\n",
      "Epoch 34/50\n",
      "898/898 [==============================] - 182s 202ms/step - loss: 0.0029 - acc: 0.9992 - val_loss: 0.0098 - val_acc: 0.9978\n",
      "Epoch 35/50\n",
      "898/898 [==============================] - 183s 203ms/step - loss: 0.0016 - acc: 0.9993 - val_loss: 0.0086 - val_acc: 0.9978\n",
      "Epoch 36/50\n",
      "898/898 [==============================] - 183s 204ms/step - loss: 0.0028 - acc: 0.9993 - val_loss: 0.0065 - val_acc: 0.9992\n",
      "Epoch 37/50\n",
      "898/898 [==============================] - 181s 202ms/step - loss: 0.0013 - acc: 0.9995 - val_loss: 0.0127 - val_acc: 0.9969\n",
      "Epoch 38/50\n",
      "898/898 [==============================] - 184s 204ms/step - loss: 0.0022 - acc: 0.9992 - val_loss: 0.0067 - val_acc: 0.9986\n",
      "Epoch 39/50\n",
      "898/898 [==============================] - 184s 205ms/step - loss: 0.0016 - acc: 0.9995 - val_loss: 0.0058 - val_acc: 0.9986\n",
      "Epoch 40/50\n",
      "898/898 [==============================] - 182s 203ms/step - loss: 0.0034 - acc: 0.9991 - val_loss: 0.0037 - val_acc: 0.9989\n",
      "Epoch 41/50\n",
      "898/898 [==============================] - 184s 205ms/step - loss: 0.0032 - acc: 0.9991 - val_loss: 0.0058 - val_acc: 0.9986\n",
      "Epoch 42/50\n",
      "898/898 [==============================] - 183s 203ms/step - loss: 0.0017 - acc: 0.9994 - val_loss: 0.0074 - val_acc: 0.9986\n",
      "Epoch 43/50\n",
      "898/898 [==============================] - 183s 203ms/step - loss: 0.0018 - acc: 0.9995 - val_loss: 0.0069 - val_acc: 0.9983\n",
      "Epoch 44/50\n",
      "898/898 [==============================] - 183s 203ms/step - loss: 0.0022 - acc: 0.9993 - val_loss: 0.0058 - val_acc: 0.9986\n",
      "Epoch 45/50\n",
      "898/898 [==============================] - 184s 205ms/step - loss: 0.0013 - acc: 0.9996 - val_loss: 0.0051 - val_acc: 0.9989\n",
      "Epoch 46/50\n",
      "898/898 [==============================] - 183s 204ms/step - loss: 0.0014 - acc: 0.9996 - val_loss: 0.0083 - val_acc: 0.9986\n",
      "Epoch 47/50\n",
      "898/898 [==============================] - 185s 206ms/step - loss: 8.6108e-04 - acc: 0.9998 - val_loss: 0.0081 - val_acc: 0.9981\n",
      "Epoch 48/50\n",
      "898/898 [==============================] - 184s 205ms/step - loss: 0.0011 - acc: 0.9995 - val_loss: 0.0124 - val_acc: 0.9978\n",
      "Epoch 49/50\n",
      "898/898 [==============================] - 183s 203ms/step - loss: 0.0015 - acc: 0.9997 - val_loss: 0.0070 - val_acc: 0.9981\n",
      "Epoch 50/50\n",
      "898/898 [==============================] - 184s 205ms/step - loss: 0.0017 - acc: 0.9996 - val_loss: 0.0413 - val_acc: 0.9905\n"
     ]
    }
   ],
   "source": [
    "optimizers = tf.keras.optimizers.Adam(learning_rate = 0.00001)\n",
    "\n",
    "model1.compile(\n",
    "  optimizer=optimizers,\n",
    "  loss=tf.keras.losses.CategoricalCrossentropy(from_logits=False),\n",
    "  metrics=['acc'])\n",
    "\n",
    "history= model1.fit(train_dataset, \n",
    "                   validation_data = validation_dataset, \n",
    "                   epochs= 50)"
   ]
  },
  {
   "cell_type": "code",
   "execution_count": 23,
   "id": "613f75c9",
   "metadata": {},
   "outputs": [],
   "source": [
    "model1.save(\"MobileNET_1.h5\")"
   ]
  },
  {
   "cell_type": "code",
   "execution_count": 24,
   "id": "11c8da75",
   "metadata": {},
   "outputs": [],
   "source": [
    "# from tensorflow.keras.models import load_model\n",
    "\n",
    "# # Load the saved model\n",
    "# loaded_model = load_model(\"model_VGG16_unseen_final_mixed.h5\")\n",
    "\n",
    "# # Perform evaluation on a test dataset\n",
    "# test_loss, test_accuracy = loaded_model.evaluate(test_dataset)\n",
    "\n",
    "# print(\"Test Loss:\", test_loss)\n",
    "# print(\"Test Accuracy:\", test_accuracy)\n",
    "\n",
    "# # Make predictions on new data\n",
    "# #predictions = loaded_model.predict(new_data)\n"
   ]
  },
  {
   "cell_type": "code",
   "execution_count": 25,
   "id": "4d0f2960",
   "metadata": {},
   "outputs": [],
   "source": [
    "# #Make predictions on new data\n",
    "# predictions = loaded_model.predict(test_dataset)\n"
   ]
  },
  {
   "cell_type": "code",
   "execution_count": 26,
   "id": "05aaafed",
   "metadata": {
    "scrolled": true
   },
   "outputs": [
    {
     "name": "stdout",
     "output_type": "stream",
     "text": [
      "113/113 [==============================] - 21s 184ms/step - loss: 0.0343 - acc: 0.9922\n"
     ]
    },
    {
     "data": {
      "text/plain": [
       "[0.0343228355050087, 0.9922027587890625]"
      ]
     },
     "execution_count": 26,
     "metadata": {},
     "output_type": "execute_result"
    }
   ],
   "source": [
    "model1.evaluate(test_dataset)"
   ]
  },
  {
   "cell_type": "code",
   "execution_count": 27,
   "id": "bd445e10",
   "metadata": {},
   "outputs": [
    {
     "data": {
      "image/png": "[encoded data removed]",
      "text/plain": [
       "<Figure size 432x288 with 1 Axes>"
      ]
     },
     "metadata": {
      "needs_background": "light"
     },
     "output_type": "display_data"
    }
   ],
   "source": [
    "plt.plot(history.history['acc'], label='Training accuracy')\n",
    "plt.plot(history.history['val_acc'], label = 'validation accuracy')\n",
    "plt.xlabel('Epoch')\n",
    "plt.ylabel('Accuracy')\n",
    "plt.ylim([0, 1])\n",
    "plt.legend(loc='lower right')\n",
    "\n",
    "plt.savefig('VGG16_accuracy.png',bbox_inches=None)\n",
    "plt.show()"
   ]
  },
  {
   "cell_type": "code",
   "execution_count": 28,
   "id": "5429f146",
   "metadata": {},
   "outputs": [
    {
     "data": {
      "image/png": "[encoded data removed]",
      "text/plain": [
       "<Figure size 432x288 with 1 Axes>"
      ]
     },
     "metadata": {
      "needs_background": "light"
     },
     "output_type": "display_data"
    }
   ],
   "source": [
    "plt.plot(history.history['loss'], label='Training Loss')\n",
    "plt.plot(history.history['val_loss'], label = 'validation Loss')\n",
    "plt.xlabel('Epoch')\n",
    "plt.ylabel('Loss')\n",
    "plt.ylim([0, 1])\n",
    "plt.legend(loc='lower right')\n",
    "\n",
    "plt.savefig('VGG16_loss.png',bbox_inches=None)\n",
    "plt.show()"
   ]
  },
  {
   "cell_type": "code",
   "execution_count": null,
   "id": "61d5eaed",
   "metadata": {},
   "outputs": [],
   "source": []
  },
  {
   "cell_type": "code",
   "execution_count": 29,
   "id": "fb3f5e2a",
   "metadata": {},
   "outputs": [],
   "source": [
    "# print('Validate the model')\n",
    "# final_result = loaded_model.evaluate(\n",
    "#     validation_dataset,\n",
    "#     #steps = 3590\n",
    "# )"
   ]
  },
  {
   "cell_type": "code",
   "execution_count": 30,
   "id": "0e88930f",
   "metadata": {},
   "outputs": [],
   "source": [
    "# from time import time"
   ]
  },
  {
   "cell_type": "code",
   "execution_count": 31,
   "id": "6de7b114",
   "metadata": {},
   "outputs": [],
   "source": [
    "# t0 = time()\n",
    "# #validation_dataset.reset()\n",
    "# val_predict = loaded_model.predict(\n",
    "#     validation_dataset,\n",
    "# #     steps = 3590,\n",
    "#     verbose = 1)\n",
    "# print('Time taken to evaluate the model:',int(time()-t0),'seconds')"
   ]
  },
  {
   "cell_type": "code",
   "execution_count": 32,
   "id": "db2c8750",
   "metadata": {},
   "outputs": [],
   "source": [
    "# validation_samples = val_predict.shape[0]\n",
    "# print('Number of data points in validation set:',validation_samples)"
   ]
  },
  {
   "cell_type": "code",
   "execution_count": 33,
   "id": "9a374da1",
   "metadata": {},
   "outputs": [],
   "source": [
    "# val_predicted_classes = np.argmax(val_predict, axis = 1)\n",
    "# val_true_classes = validation_dataset.classes\n",
    "# val_class_labels = list(validation_dataset.class_indices.keys())"
   ]
  },
  {
   "cell_type": "code",
   "execution_count": 34,
   "id": "c91bf4c6",
   "metadata": {},
   "outputs": [],
   "source": [
    "import sklearn.metrics as metrics"
   ]
  },
  {
   "cell_type": "code",
   "execution_count": 35,
   "id": "d79a0c3c",
   "metadata": {},
   "outputs": [],
   "source": [
    "# validation_report = metrics.classification_report(val_true_classes, val_predicted_classes, target_names=val_class_labels)\n",
    "# print('The validation report is as follows:')\n",
    "# print(validation_report)"
   ]
  },
  {
   "cell_type": "code",
   "execution_count": 36,
   "id": "2626d362",
   "metadata": {},
   "outputs": [],
   "source": [
    "# val_conf_matrix = tf.math.confusion_matrix(labels=val_true_classes, predictions=val_predicted_classes).numpy()\n",
    "# print(val_conf_matrix)"
   ]
  },
  {
   "cell_type": "code",
   "execution_count": 37,
   "id": "252180a6",
   "metadata": {},
   "outputs": [],
   "source": [
    " import seaborn as sns"
   ]
  },
  {
   "cell_type": "code",
   "execution_count": 38,
   "id": "73a82196",
   "metadata": {},
   "outputs": [],
   "source": [
    "# figure1 = plt.figure()\n",
    "# val_conf_matrix = val_conf_matrix.astype('float') / val_conf_matrix.sum(axis=1)[:, np.newaxis]\n",
    "# sns.heatmap(val_conf_matrix, annot = True, cmap=plt.cm.Greens)\n",
    "# plt.tight_layout()\n",
    "# plt.ylabel('True Label')\n",
    "# plt.xlabel('Predicted label')\n",
    "# plt.savefig('Validation data Confusion Matrix', dpi=250)"
   ]
  },
  {
   "cell_type": "code",
   "execution_count": 39,
   "id": "5f75e195",
   "metadata": {},
   "outputs": [
    {
     "name": "stdout",
     "output_type": "stream",
     "text": [
      "Testing the model\n",
      "113/113 [==============================] - 21s 184ms/step - loss: 0.0343 - acc: 0.9922\n"
     ]
    }
   ],
   "source": [
    "print('Testing the model')\n",
    "final_result = model1.evaluate(\n",
    "    test_dataset,\n",
    "    #steps = 3591\n",
    ")"
   ]
  },
  {
   "cell_type": "code",
   "execution_count": 40,
   "id": "04740e97",
   "metadata": {},
   "outputs": [
    {
     "name": "stdout",
     "output_type": "stream",
     "text": [
      "113/113 [==============================] - 21s 183ms/step\n"
     ]
    }
   ],
   "source": [
    "#test_dataset.reset()\n",
    "predict_on_test_data = model1.predict(\n",
    "    test_dataset,\n",
    "    #steps = 3591,\n",
    "    verbose = 1\n",
    ")"
   ]
  },
  {
   "cell_type": "code",
   "execution_count": 41,
   "id": "f47c53c8",
   "metadata": {},
   "outputs": [
    {
     "name": "stdout",
     "output_type": "stream",
     "text": [
      "Number of data points in test set: 3591\n"
     ]
    }
   ],
   "source": [
    "print('Number of data points in test set:',predict_on_test_data.shape[0])"
   ]
  },
  {
   "cell_type": "code",
   "execution_count": 42,
   "id": "d354944e",
   "metadata": {},
   "outputs": [],
   "source": [
    "predicted_classes = np.argmax(predict_on_test_data,axis=1)\n",
    "predict_true_classes = test_dataset.classes\n",
    "predict_class_labels = list(test_dataset.class_indices.keys())"
   ]
  },
  {
   "cell_type": "code",
   "execution_count": 43,
   "id": "55b1a192",
   "metadata": {},
   "outputs": [
    {
     "name": "stdout",
     "output_type": "stream",
     "text": [
      "              precision    recall  f1-score   support\n",
      "\n",
      "   BD Normal       0.99      1.00      0.99      1936\n",
      " BD Parallel       1.00      0.98      0.99      1655\n",
      "\n",
      "    accuracy                           0.99      3591\n",
      "   macro avg       0.99      0.99      0.99      3591\n",
      "weighted avg       0.99      0.99      0.99      3591\n",
      "\n"
     ]
    }
   ],
   "source": [
    "test_report = metrics.classification_report(predict_true_classes, predicted_classes, target_names = predict_class_labels)\n",
    "print(test_report)"
   ]
  },
  {
   "cell_type": "code",
   "execution_count": 44,
   "id": "b622ba60",
   "metadata": {},
   "outputs": [
    {
     "name": "stdout",
     "output_type": "stream",
     "text": [
      "[[1935    1]\n",
      " [  27 1628]]\n"
     ]
    }
   ],
   "source": [
    "test_confusion_matrix = tf.math.confusion_matrix(labels=predict_true_classes,predictions = predicted_classes).numpy()\n",
    "print(test_confusion_matrix)"
   ]
  },
  {
   "cell_type": "code",
   "execution_count": 45,
   "id": "fc1172f0",
   "metadata": {},
   "outputs": [
    {
     "data": {
      "image/png": "[encoded data removed]",
      "text/plain": [
       "<Figure size 432x288 with 2 Axes>"
      ]
     },
     "metadata": {
      "needs_background": "light"
     },
     "output_type": "display_data"
    }
   ],
   "source": [
    "import seaborn as sns\n",
    "import matplotlib.pyplot as plt\n",
    "import numpy as np\n",
    "\n",
    "test_confusion_matrix = tf.math.confusion_matrix(labels=predict_true_classes, predictions=predicted_classes).numpy()\n",
    "\n",
    "sns.heatmap(test_confusion_matrix, annot=True, fmt='d', cmap='Blues')\n",
    "plt.xlabel('Predicted Classes')\n",
    "plt.ylabel('True Classes')\n",
    "plt.show()"
   ]
  },
  {
   "cell_type": "code",
   "execution_count": 46,
   "id": "e5cacdef",
   "metadata": {},
   "outputs": [
    {
     "data": {
      "image/png": "[encoded data removed]",
      "text/plain": [
       "<Figure size 432x288 with 2 Axes>"
      ]
     },
     "metadata": {
      "needs_background": "light"
     },
     "output_type": "display_data"
    }
   ],
   "source": [
    "figure1 = plt.figure()\n",
    "test_confusion_matrix = test_confusion_matrix.astype('float') / test_confusion_matrix.sum(axis=1)[:, np.newaxis]\n",
    "sns.heatmap(test_confusion_matrix, annot = True, cmap=plt.cm.Greens)\n",
    "plt.tight_layout()\n",
    "plt.ylabel('True Label')\n",
    "plt.xlabel('Predicted label')\n",
    "plt.savefig('Test data Confusion Matrix', dpi=250)\n",
    "plt.show()"
   ]
  },
  {
   "cell_type": "code",
   "execution_count": null,
   "id": "313a599c",
   "metadata": {},
   "outputs": [],
   "source": []
  },
  {
   "cell_type": "code",
   "execution_count": null,
   "id": "ba07827f",
   "metadata": {},
   "outputs": [],
   "source": []
  },
  {
   "cell_type": "code",
   "execution_count": null,
   "id": "188ab4d9",
   "metadata": {},
   "outputs": [],
   "source": []
  }
 ],
 "metadata": {
  "kernelspec": {
   "display_name": "Python 3 (ipykernel)",
   "language": "python",
   "name": "python3"
  },
  "language_info": {
   "codemirror_mode": {
    "name": "ipython",
    "version": 3
   },
   "file_extension": ".py",
   "mimetype": "text/x-python",
   "name": "python",
   "nbconvert_exporter": "python",
   "pygments_lexer": "ipython3",
   "version": "3.9.7"
  }
 },
 "nbformat": 4,
 "nbformat_minor": 5
}
