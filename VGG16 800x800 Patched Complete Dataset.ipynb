{
 "cells": [
  {
   "cell_type": "code",
   "execution_count": 1,
   "id": "09d8fe67",
   "metadata": {},
   "outputs": [
    {
     "name": "stderr",
     "output_type": "stream",
     "text": [
      "2023-07-08 18:54:25.466742: I tensorflow/core/util/util.cc:169] oneDNN custom operations are on. You may see slightly different numerical results due to floating-point round-off errors from different computation orders. To turn them off, set the environment variable `TF_ENABLE_ONEDNN_OPTS=0`.\n"
     ]
    },
    {
     "name": "stdout",
     "output_type": "stream",
     "text": [
      "Num GPUs Available:  1\n",
      "tensorflow version: 2.9.2\n",
      "PIL version: 7.1.2\n",
      "numpy version: 1.21.6\n",
      "matplotlib version: 3.2.2\n"
     ]
    }
   ],
   "source": [
    "import tensorflow as tf\n",
    "print(\"Num GPUs Available: \", len(tf.config.list_physical_devices('GPU')))\n",
    "print('tensorflow version:',tf.__version__)\n",
    "from tensorflow import keras\n",
    "from tensorflow.keras import layers\n",
    "from tensorflow.keras.models import Sequential\n",
    "from tensorflow.keras.preprocessing.image import ImageDataGenerator\n",
    "from tensorflow.keras.preprocessing import image\n",
    "\n",
    "import PIL\n",
    "print('PIL version:',PIL.__version__)\n",
    "import os\n",
    "import numpy as np\n",
    "print('numpy version:',np.__version__)\n",
    "import matplotlib\n",
    "import matplotlib.pyplot as plt\n",
    "print('matplotlib version:',matplotlib.__version__)\n",
    "import tensorflow_hub as hub\n",
    "from keras import applications\n",
    "\n",
    "import warnings\n",
    "warnings.filterwarnings(\"ignore\")\n",
    "\n",
    "# Shared Input Layer\n",
    "#from keras.utils import plot_model\n",
    "import tensorflow as tf\n",
    "from keras.models import Model\n",
    "from keras.layers import Input, Lambda\n",
    "from keras.layers import Dense\n",
    "from keras.layers import Flatten, Dropout, Dense\n",
    "from keras.layers.convolutional import Conv2D\n",
    "from keras.layers.pooling import MaxPooling2D\n",
    "from keras.layers import concatenate\n",
    "from keras import backend\n",
    "#from google.colab import drive\n",
    "from keras.callbacks import ModelCheckpoint\n",
    "\n",
    "from keras.preprocessing.image import ImageDataGenerator"
   ]
  },
  {
   "cell_type": "code",
   "execution_count": 2,
   "id": "fb8bf940",
   "metadata": {},
   "outputs": [
    {
     "name": "stdout",
     "output_type": "stream",
     "text": [
      "Sat Jul  8 18:54:39 2023       \n",
      "+-----------------------------------------------------------------------------+\n",
      "| NVIDIA-SMI 470.82.01    Driver Version: 470.82.01    CUDA Version: 11.4     |\n",
      "|-------------------------------+----------------------+----------------------+\n",
      "| GPU  Name        Persistence-M| Bus-Id        Disp.A | Volatile Uncorr. ECC |\n",
      "| Fan  Temp  Perf  Pwr:Usage/Cap|         Memory-Usage | GPU-Util  Compute M. |\n",
      "|                               |                      |               MIG M. |\n",
      "|===============================+======================+======================|\n",
      "|   0  Quadro RTX 4000     Off  | 00000000:3B:00.0  On |                  N/A |\n",
      "| 30%   55C    P8    16W / 125W |    276MiB /  7979MiB |     11%      Default |\n",
      "|                               |                      |                  N/A |\n",
      "+-------------------------------+----------------------+----------------------+\n",
      "                                                                               \n",
      "+-----------------------------------------------------------------------------+\n",
      "| Processes:                                                                  |\n",
      "|  GPU   GI   CI        PID   Type   Process name                  GPU Memory |\n",
      "|        ID   ID                                                   Usage      |\n",
      "|=============================================================================|\n",
      "|    0   N/A  N/A      2315      G   /usr/bin/X                        134MiB |\n",
      "|    0   N/A  N/A      5831      G   /usr/bin/gnome-shell               87MiB |\n",
      "|    0   N/A  N/A      6805      G   ...304965800413278218,131072       47MiB |\n",
      "+-----------------------------------------------------------------------------+\n"
     ]
    }
   ],
   "source": [
    "gpu_info = !nvidia-smi\n",
    "gpu_info = '\\n'.join(gpu_info)\n",
    "if gpu_info.find('failed') >= 0:\n",
    "  print('Not connected to a GPU')\n",
    "else:\n",
    "  print(gpu_info)"
   ]
  },
  {
   "cell_type": "code",
   "execution_count": 3,
   "id": "8cb273fb",
   "metadata": {},
   "outputs": [],
   "source": [
    "batch_size = 32\n",
    "img_height = 224\n",
    "img_width = 224"
   ]
  },
  {
   "cell_type": "code",
   "execution_count": 7,
   "id": "27ded253",
   "metadata": {},
   "outputs": [
    {
     "name": "stdout",
     "output_type": "stream",
     "text": [
      "Total images:  7128\n",
      "Training:  5702\n",
      "Validation:  713\n",
      "Testing:  713\n"
     ]
    }
   ],
   "source": [
    "# # Creating Train / Val / Test folders (One time use)\n",
    "import os\n",
    "import numpy as np\n",
    "import shutil\n",
    "import random\n",
    "root_dir = '/home/mishra/Documents/Ayesha/Ayesha 2/FInal selected Raw Data/800x800 Patched and flipped' # data root path\n",
    "classes_dir = ['BD Normal'] #total labels\n",
    "\n",
    "val_ratio = 0.10\n",
    "test_ratio = 0.10\n",
    "\n",
    "for cls in classes_dir:\n",
    "    os.makedirs(root_dir +'train_/' + cls)\n",
    "    os.makedirs(root_dir +'val_/' + cls)\n",
    "    os.makedirs(root_dir +'test_/' + cls)\n",
    "\n",
    "\n",
    "# Creating partitions of the data after shuffeling\n",
    "src = root_dir +'/'+cls # Folder to copy images from\n",
    "\n",
    "allFileNames = os.listdir(src)\n",
    "np.random.shuffle(allFileNames)\n",
    "train_FileNames, val_FileNames, test_FileNames = np.split(np.array(allFileNames),\n",
    "                                                          [int(len(allFileNames)* (1 - (val_ratio + test_ratio))), \n",
    "                                                           int(len(allFileNames)* (1 - test_ratio))])\n",
    "\n",
    "\n",
    "train_FileNames = [src+'/'+ name for name in train_FileNames.tolist()]\n",
    "val_FileNames = [src+'/' + name for name in val_FileNames.tolist()]\n",
    "test_FileNames = [src+'/' + name for name in test_FileNames.tolist()]\n",
    "\n",
    "print('Total images: ', len(allFileNames))\n",
    "print('Training: ', len(train_FileNames))\n",
    "print('Validation: ', len(val_FileNames))\n",
    "print('Testing: ', len(test_FileNames))\n",
    "\n",
    "# Copy-pasting images\n",
    "for cls in classes_dir:\n",
    "       # Copy-pasting images\n",
    "        for name in train_FileNames:\n",
    "              shutil.copy(name, root_dir +'train_/' + cls)\n",
    "\n",
    "        for name in val_FileNames:\n",
    "              shutil.copy(name, root_dir +'val_/' + cls)\n",
    "\n",
    "        for name in test_FileNames:\n",
    "               shutil.copy(name, root_dir +'test_/' + cls)"
   ]
  },
  {
   "cell_type": "code",
   "execution_count": 8,
   "id": "3b2beaa4",
   "metadata": {},
   "outputs": [
    {
     "name": "stdout",
     "output_type": "stream",
     "text": [
      "Total images:  7128\n",
      "Training:  5702\n",
      "Validation:  713\n",
      "Testing:  713\n"
     ]
    }
   ],
   "source": [
    "# # Creating Train / Val / Test folders (One time use)\n",
    "import os\n",
    "import numpy as np\n",
    "import shutil\n",
    "import random\n",
    "root_dir = '/home/mishra/Documents/Ayesha/Ayesha 2/FInal selected Raw Data/800x800 Patched and flipped' # data root path\n",
    "classes_dir = ['BD Parallel'] #total labels\n",
    "\n",
    "val_ratio = 0.10\n",
    "test_ratio = 0.10\n",
    "\n",
    "for cls in classes_dir:\n",
    "    os.makedirs(root_dir +'train_/' + cls)\n",
    "    os.makedirs(root_dir +'val_/' + cls)\n",
    "    os.makedirs(root_dir +'test_/' + cls)\n",
    "\n",
    "\n",
    "# Creating partitions of the data after shuffeling\n",
    "src = root_dir +'/'+cls # Folder to copy images from\n",
    "\n",
    "allFileNames = os.listdir(src)\n",
    "np.random.shuffle(allFileNames)\n",
    "train_FileNames, val_FileNames, test_FileNames = np.split(np.array(allFileNames),\n",
    "                                                          [int(len(allFileNames)* (1 - (val_ratio + test_ratio))), \n",
    "                                                           int(len(allFileNames)* (1 - test_ratio))])\n",
    "\n",
    "\n",
    "train_FileNames = [src+'/'+ name for name in train_FileNames.tolist()]\n",
    "val_FileNames = [src+'/' + name for name in val_FileNames.tolist()]\n",
    "test_FileNames = [src+'/' + name for name in test_FileNames.tolist()]\n",
    "\n",
    "print('Total images: ', len(allFileNames))\n",
    "print('Training: ', len(train_FileNames))\n",
    "print('Validation: ', len(val_FileNames))\n",
    "print('Testing: ', len(test_FileNames))\n",
    "\n",
    "for cls in classes_dir:\n",
    "       # Copy-pasting images\n",
    "        for name in train_FileNames:\n",
    "              shutil.copy(name, root_dir +'train_/' + cls)\n",
    "\n",
    "        for name in val_FileNames:\n",
    "              shutil.copy(name, root_dir +'val_/' + cls)\n",
    "\n",
    "        for name in test_FileNames:\n",
    "               shutil.copy(name, root_dir +'test_/' + cls)"
   ]
  },
  {
   "cell_type": "code",
   "execution_count": 9,
   "id": "08a993c0",
   "metadata": {},
   "outputs": [],
   "source": [
    "train_datagen = ImageDataGenerator(rescale=1./255)"
   ]
  },
  {
   "cell_type": "code",
   "execution_count": 10,
   "id": "ff89e21e",
   "metadata": {},
   "outputs": [
    {
     "name": "stdout",
     "output_type": "stream",
     "text": [
      "Found 11404 images belonging to 2 classes.\n"
     ]
    }
   ],
   "source": [
    "train_dataset = train_datagen.flow_from_directory(\n",
    "        '/home/mishra/Documents/Ayesha/Ayesha 2/FInal selected Raw Data/800x800 Patched and flippedtrain_',\n",
    "        target_size=(224, 224),\n",
    "        batch_size=batch_size,\n",
    "        shuffle=True,\n",
    "        class_mode='categorical',\n",
    "         color_mode = 'rgb')"
   ]
  },
  {
   "cell_type": "code",
   "execution_count": 11,
   "id": "6f1c75f2",
   "metadata": {},
   "outputs": [],
   "source": [
    "validation_datagen = ImageDataGenerator(rescale=1./255)"
   ]
  },
  {
   "cell_type": "code",
   "execution_count": 12,
   "id": "3c433cb0",
   "metadata": {},
   "outputs": [
    {
     "name": "stdout",
     "output_type": "stream",
     "text": [
      "Found 1426 images belonging to 2 classes.\n"
     ]
    }
   ],
   "source": [
    "validation_dataset = validation_datagen.flow_from_directory(\n",
    "        '/home/mishra/Documents/Ayesha/Ayesha 2/FInal selected Raw Data/800x800 Patched and flippedval_',\n",
    "        target_size=(224, 224),\n",
    "        batch_size=batch_size,\n",
    "        shuffle=False,\n",
    "        class_mode='categorical',\n",
    "         color_mode = 'rgb')"
   ]
  },
  {
   "cell_type": "code",
   "execution_count": 13,
   "id": "188ea9d8",
   "metadata": {},
   "outputs": [],
   "source": [
    "test_datagen = ImageDataGenerator(rescale=1./255)"
   ]
  },
  {
   "cell_type": "code",
   "execution_count": 14,
   "id": "426e2aea",
   "metadata": {},
   "outputs": [
    {
     "name": "stdout",
     "output_type": "stream",
     "text": [
      "Found 1426 images belonging to 2 classes.\n"
     ]
    }
   ],
   "source": [
    "test_dataset = test_datagen.flow_from_directory(\n",
    "    '/home/mishra/Documents/Ayesha/Ayesha 2/FInal selected Raw Data/800x800 Patched and flippedtest_',\n",
    "    target_size=(224, 224),\n",
    "    batch_size=batch_size,\n",
    "    shuffle=False,\n",
    "        class_mode='categorical',\n",
    "         color_mode = 'rgb')"
   ]
  },
  {
   "cell_type": "code",
   "execution_count": 15,
   "id": "81796272",
   "metadata": {},
   "outputs": [
    {
     "name": "stdout",
     "output_type": "stream",
     "text": [
      "(32, 224, 224, 3)\n",
      "(32, 2)\n"
     ]
    }
   ],
   "source": [
    "for image_batch, label_batch in train_dataset:\n",
    "    print(image_batch.shape)\n",
    "    print(label_batch.shape)\n",
    "    break"
   ]
  },
  {
   "cell_type": "code",
   "execution_count": 16,
   "id": "6c5fd4d7",
   "metadata": {},
   "outputs": [
    {
     "name": "stdout",
     "output_type": "stream",
     "text": [
      "{'BD Normal': 0, 'BD Parallel': 1}\n",
      "{'BD Normal': 0, 'BD Parallel': 1}\n"
     ]
    }
   ],
   "source": [
    "class_names_train = train_dataset.class_indices\n",
    "print(class_names_train)\n",
    "class_names_validation = validation_dataset.class_indices\n",
    "print(class_names_validation)"
   ]
  },
  {
   "cell_type": "code",
   "execution_count": 17,
   "id": "8f1d8064",
   "metadata": {},
   "outputs": [
    {
     "name": "stderr",
     "output_type": "stream",
     "text": [
      "2023-07-08 18:57:54.854087: I tensorflow/core/platform/cpu_feature_guard.cc:193] This TensorFlow binary is optimized with oneAPI Deep Neural Network Library (oneDNN) to use the following CPU instructions in performance-critical operations:  AVX2 AVX512F AVX512_VNNI FMA\n",
      "To enable them in other operations, rebuild TensorFlow with the appropriate compiler flags.\n",
      "2023-07-08 18:57:58.313540: I tensorflow/core/common_runtime/gpu/gpu_device.cc:1532] Created device /job:localhost/replica:0/task:0/device:GPU:0 with 6376 MB memory:  -> device: 0, name: Quadro RTX 4000, pci bus id: 0000:3b:00.0, compute capability: 7.5\n"
     ]
    }
   ],
   "source": [
    "base_model1 = tf.keras.applications.VGG16(weights='imagenet',\n",
    "                                include_top=False, \n",
    "                                input_shape=(224, 224,3))"
   ]
  },
  {
   "cell_type": "code",
   "execution_count": 18,
   "id": "ab572b37",
   "metadata": {},
   "outputs": [
    {
     "name": "stdout",
     "output_type": "stream",
     "text": [
      "Model: \"vgg16\"\n",
      "_________________________________________________________________\n",
      " Layer (type)                Output Shape              Param #   \n",
      "=================================================================\n",
      " input_1 (InputLayer)        [(None, 224, 224, 3)]     0         \n",
      "                                                                 \n",
      " block1_conv1 (Conv2D)       (None, 224, 224, 64)      1792      \n",
      "                                                                 \n",
      " block1_conv2 (Conv2D)       (None, 224, 224, 64)      36928     \n",
      "                                                                 \n",
      " block1_pool (MaxPooling2D)  (None, 112, 112, 64)      0         \n",
      "                                                                 \n",
      " block2_conv1 (Conv2D)       (None, 112, 112, 128)     73856     \n",
      "                                                                 \n",
      " block2_conv2 (Conv2D)       (None, 112, 112, 128)     147584    \n",
      "                                                                 \n",
      " block2_pool (MaxPooling2D)  (None, 56, 56, 128)       0         \n",
      "                                                                 \n",
      " block3_conv1 (Conv2D)       (None, 56, 56, 256)       295168    \n",
      "                                                                 \n",
      " block3_conv2 (Conv2D)       (None, 56, 56, 256)       590080    \n",
      "                                                                 \n",
      " block3_conv3 (Conv2D)       (None, 56, 56, 256)       590080    \n",
      "                                                                 \n",
      " block3_pool (MaxPooling2D)  (None, 28, 28, 256)       0         \n",
      "                                                                 \n",
      " block4_conv1 (Conv2D)       (None, 28, 28, 512)       1180160   \n",
      "                                                                 \n",
      " block4_conv2 (Conv2D)       (None, 28, 28, 512)       2359808   \n",
      "                                                                 \n",
      " block4_conv3 (Conv2D)       (None, 28, 28, 512)       2359808   \n",
      "                                                                 \n",
      " block4_pool (MaxPooling2D)  (None, 14, 14, 512)       0         \n",
      "                                                                 \n",
      " block5_conv1 (Conv2D)       (None, 14, 14, 512)       2359808   \n",
      "                                                                 \n",
      " block5_conv2 (Conv2D)       (None, 14, 14, 512)       2359808   \n",
      "                                                                 \n",
      " block5_conv3 (Conv2D)       (None, 14, 14, 512)       2359808   \n",
      "                                                                 \n",
      " block5_pool (MaxPooling2D)  (None, 7, 7, 512)         0         \n",
      "                                                                 \n",
      "=================================================================\n",
      "Total params: 14,714,688\n",
      "Trainable params: 14,714,688\n",
      "Non-trainable params: 0\n",
      "_________________________________________________________________\n"
     ]
    }
   ],
   "source": [
    "base_model1.summary()"
   ]
  },
  {
   "cell_type": "code",
   "execution_count": 20,
   "id": "f3f7d9d9",
   "metadata": {},
   "outputs": [
    {
     "name": "stdout",
     "output_type": "stream",
     "text": [
      "Model: \"sequential_1\"\n",
      "_________________________________________________________________\n",
      " Layer (type)                Output Shape              Param #   \n",
      "=================================================================\n",
      " vgg16 (Functional)          (None, 7, 7, 512)         14714688  \n",
      "                                                                 \n",
      " flatten_1 (Flatten)         (None, 25088)             0         \n",
      "                                                                 \n",
      " dropout_1 (Dropout)         (None, 25088)             0         \n",
      "                                                                 \n",
      " dense_2 (Dense)             (None, 2)                 50178     \n",
      "                                                                 \n",
      "=================================================================\n",
      "Total params: 14,764,866\n",
      "Trainable params: 14,764,866\n",
      "Non-trainable params: 0\n",
      "_________________________________________________________________\n"
     ]
    }
   ],
   "source": [
    "num = 2\n",
    "\n",
    "model1= tf.keras.Sequential([\n",
    "      base_model1,\n",
    "     layers.Flatten(),\n",
    "     #layers.Dense(512, activation='relu'),\n",
    "     layers.Dropout(0.5),\n",
    "  tf.keras.layers.Dense(num, activation = 'softmax' )\n",
    "])\n",
    "\n",
    "model1.summary()"
   ]
  },
  {
   "cell_type": "code",
   "execution_count": 21,
   "id": "f60c5860",
   "metadata": {
    "scrolled": true
   },
   "outputs": [
    {
     "name": "stdout",
     "output_type": "stream",
     "text": [
      "Epoch 1/10\n"
     ]
    },
    {
     "name": "stderr",
     "output_type": "stream",
     "text": [
      "2023-07-08 18:58:39.354481: I tensorflow/stream_executor/cuda/cuda_dnn.cc:384] Loaded cuDNN version 8100\n"
     ]
    },
    {
     "name": "stdout",
     "output_type": "stream",
     "text": [
      "357/357 [==============================] - 188s 463ms/step - loss: 0.0629 - acc: 0.9732 - val_loss: 2.6830e-04 - val_acc: 1.0000\n",
      "Epoch 2/10\n",
      "357/357 [==============================] - 161s 451ms/step - loss: 0.0100 - acc: 0.9962 - val_loss: 5.4228e-04 - val_acc: 1.0000\n",
      "Epoch 3/10\n",
      "357/357 [==============================] - 161s 449ms/step - loss: 0.0120 - acc: 0.9955 - val_loss: 9.4117e-05 - val_acc: 1.0000\n",
      "Epoch 4/10\n",
      "357/357 [==============================] - 162s 453ms/step - loss: 7.2040e-05 - acc: 1.0000 - val_loss: 1.2773e-05 - val_acc: 1.0000\n",
      "Epoch 5/10\n",
      "357/357 [==============================] - 162s 452ms/step - loss: 1.9520e-06 - acc: 1.0000 - val_loss: 4.4143e-06 - val_acc: 1.0000\n",
      "Epoch 6/10\n",
      "357/357 [==============================] - 162s 453ms/step - loss: 1.3370e-06 - acc: 1.0000 - val_loss: 2.8136e-06 - val_acc: 1.0000\n",
      "Epoch 7/10\n",
      "357/357 [==============================] - 162s 452ms/step - loss: 2.0533e-06 - acc: 1.0000 - val_loss: 5.1265e-06 - val_acc: 1.0000\n",
      "Epoch 8/10\n",
      "357/357 [==============================] - 161s 450ms/step - loss: 1.3453e-06 - acc: 1.0000 - val_loss: 4.0814e-06 - val_acc: 1.0000\n",
      "Epoch 9/10\n",
      "357/357 [==============================] - 160s 448ms/step - loss: 4.9107e-07 - acc: 1.0000 - val_loss: 3.2571e-06 - val_acc: 1.0000\n",
      "Epoch 10/10\n",
      "357/357 [==============================] - 160s 448ms/step - loss: 4.2881e-07 - acc: 1.0000 - val_loss: 1.0045e-06 - val_acc: 1.0000\n"
     ]
    }
   ],
   "source": [
    "optimizers = tf.keras.optimizers.Adam(learning_rate = 0.0001)\n",
    "\n",
    "model1.compile(\n",
    "  optimizer=optimizers,\n",
    "  loss=tf.keras.losses.CategoricalCrossentropy(from_logits=False),\n",
    "  metrics=['acc'])\n",
    "\n",
    "history= model1.fit(train_dataset, \n",
    "                   validation_data = validation_dataset, \n",
    "                   epochs= 10)"
   ]
  },
  {
   "cell_type": "code",
   "execution_count": 22,
   "id": "613f75c9",
   "metadata": {},
   "outputs": [],
   "source": [
    "model1.save(\"Vgg16_new_patched.h5\")"
   ]
  },
  {
   "cell_type": "code",
   "execution_count": 23,
   "id": "11c8da75",
   "metadata": {},
   "outputs": [],
   "source": [
    "# from tensorflow.keras.models import load_model\n",
    "\n",
    "# # Load the saved model\n",
    "# loaded_model = load_model(\"model_VGG16_unseen_final_mixed.h5\")\n",
    "\n",
    "# # Perform evaluation on a test dataset\n",
    "# test_loss, test_accuracy = loaded_model.evaluate(test_dataset)\n",
    "\n",
    "# print(\"Test Loss:\", test_loss)\n",
    "# print(\"Test Accuracy:\", test_accuracy)\n",
    "\n",
    "# # Make predictions on new data\n",
    "# #predictions = loaded_model.predict(new_data)\n"
   ]
  },
  {
   "cell_type": "code",
   "execution_count": 24,
   "id": "4d0f2960",
   "metadata": {},
   "outputs": [],
   "source": [
    "# #Make predictions on new data\n",
    "# predictions = loaded_model.predict(test_dataset)\n"
   ]
  },
  {
   "cell_type": "code",
   "execution_count": 25,
   "id": "05aaafed",
   "metadata": {
    "scrolled": true
   },
   "outputs": [
    {
     "name": "stdout",
     "output_type": "stream",
     "text": [
      "45/45 [==============================] - 18s 398ms/step - loss: 6.6125e-07 - acc: 1.0000\n"
     ]
    },
    {
     "data": {
      "text/plain": [
       "[6.612543757000822e-07, 1.0]"
      ]
     },
     "execution_count": 25,
     "metadata": {},
     "output_type": "execute_result"
    }
   ],
   "source": [
    "model1.evaluate(test_dataset)"
   ]
  },
  {
   "cell_type": "code",
   "execution_count": 26,
   "id": "bd445e10",
   "metadata": {},
   "outputs": [
    {
     "data": {
      "image/png": "[encoded data removed]",
      "text/plain": [
       "<Figure size 432x288 with 1 Axes>"
      ]
     },
     "metadata": {
      "needs_background": "light"
     },
     "output_type": "display_data"
    }
   ],
   "source": [
    "plt.plot(history.history['acc'], label='Training accuracy')\n",
    "plt.plot(history.history['val_acc'], label = 'validation accuracy')\n",
    "plt.xlabel('Epoch')\n",
    "plt.ylabel('Accuracy')\n",
    "plt.ylim([0, 1])\n",
    "plt.legend(loc='lower right')\n",
    "\n",
    "plt.savefig('VGG16_accuracy_new.png',bbox_inches=None)\n",
    "plt.show()"
   ]
  },
  {
   "cell_type": "code",
   "execution_count": 27,
   "id": "5429f146",
   "metadata": {},
   "outputs": [
    {
     "data": {
      "image/png": "[encoded data removed]",
      "text/plain": [
       "<Figure size 432x288 with 1 Axes>"
      ]
     },
     "metadata": {
      "needs_background": "light"
     },
     "output_type": "display_data"
    }
   ],
   "source": [
    "plt.plot(history.history['loss'], label='Training Loss')\n",
    "plt.plot(history.history['val_loss'], label = 'validation Loss')\n",
    "plt.xlabel('Epoch')\n",
    "plt.ylabel('Loss')\n",
    "plt.ylim([0, 1])\n",
    "plt.legend(loc='lower right')\n",
    "\n",
    "plt.savefig('VGG16_loss_new.png',bbox_inches=None)\n",
    "plt.show()"
   ]
  },
  {
   "cell_type": "code",
   "execution_count": null,
   "id": "61d5eaed",
   "metadata": {},
   "outputs": [],
   "source": []
  },
  {
   "cell_type": "code",
   "execution_count": 28,
   "id": "fb3f5e2a",
   "metadata": {},
   "outputs": [],
   "source": [
    "# print('Validate the model')\n",
    "# final_result = loaded_model.evaluate(\n",
    "#     validation_dataset,\n",
    "#     #steps = 3590\n",
    "# )"
   ]
  },
  {
   "cell_type": "code",
   "execution_count": 29,
   "id": "0e88930f",
   "metadata": {},
   "outputs": [],
   "source": [
    "# from time import time"
   ]
  },
  {
   "cell_type": "code",
   "execution_count": 30,
   "id": "6de7b114",
   "metadata": {},
   "outputs": [],
   "source": [
    "# t0 = time()\n",
    "# #validation_dataset.reset()\n",
    "# val_predict = loaded_model.predict(\n",
    "#     validation_dataset,\n",
    "# #     steps = 3590,\n",
    "#     verbose = 1)\n",
    "# print('Time taken to evaluate the model:',int(time()-t0),'seconds')"
   ]
  },
  {
   "cell_type": "code",
   "execution_count": 31,
   "id": "db2c8750",
   "metadata": {},
   "outputs": [],
   "source": [
    "# validation_samples = val_predict.shape[0]\n",
    "# print('Number of data points in validation set:',validation_samples)"
   ]
  },
  {
   "cell_type": "code",
   "execution_count": 32,
   "id": "9a374da1",
   "metadata": {},
   "outputs": [],
   "source": [
    "# val_predicted_classes = np.argmax(val_predict, axis = 1)\n",
    "# val_true_classes = validation_dataset.classes\n",
    "# val_class_labels = list(validation_dataset.class_indices.keys())"
   ]
  },
  {
   "cell_type": "code",
   "execution_count": 33,
   "id": "c91bf4c6",
   "metadata": {},
   "outputs": [],
   "source": [
    "import sklearn.metrics as metrics"
   ]
  },
  {
   "cell_type": "code",
   "execution_count": 34,
   "id": "d79a0c3c",
   "metadata": {},
   "outputs": [],
   "source": [
    "# validation_report = metrics.classification_report(val_true_classes, val_predicted_classes, target_names=val_class_labels)\n",
    "# print('The validation report is as follows:')\n",
    "# print(validation_report)"
   ]
  },
  {
   "cell_type": "code",
   "execution_count": 35,
   "id": "2626d362",
   "metadata": {},
   "outputs": [],
   "source": [
    "# val_conf_matrix = tf.math.confusion_matrix(labels=val_true_classes, predictions=val_predicted_classes).numpy()\n",
    "# print(val_conf_matrix)"
   ]
  },
  {
   "cell_type": "code",
   "execution_count": 36,
   "id": "252180a6",
   "metadata": {},
   "outputs": [],
   "source": [
    " import seaborn as sns"
   ]
  },
  {
   "cell_type": "code",
   "execution_count": 37,
   "id": "73a82196",
   "metadata": {},
   "outputs": [],
   "source": [
    "# figure1 = plt.figure()\n",
    "# val_conf_matrix = val_conf_matrix.astype('float') / val_conf_matrix.sum(axis=1)[:, np.newaxis]\n",
    "# sns.heatmap(val_conf_matrix, annot = True, cmap=plt.cm.Greens)\n",
    "# plt.tight_layout()\n",
    "# plt.ylabel('True Label')\n",
    "# plt.xlabel('Predicted label')\n",
    "# plt.savefig('Validation data Confusion Matrix', dpi=250)"
   ]
  },
  {
   "cell_type": "code",
   "execution_count": 38,
   "id": "5f75e195",
   "metadata": {},
   "outputs": [
    {
     "name": "stdout",
     "output_type": "stream",
     "text": [
      "Testing the model\n",
      "45/45 [==============================] - 18s 394ms/step - loss: 6.6125e-07 - acc: 1.0000\n"
     ]
    }
   ],
   "source": [
    "print('Testing the model')\n",
    "final_result = model1.evaluate(\n",
    "    test_dataset,\n",
    "    #steps = 3591\n",
    ")"
   ]
  },
  {
   "cell_type": "code",
   "execution_count": 39,
   "id": "04740e97",
   "metadata": {},
   "outputs": [
    {
     "name": "stdout",
     "output_type": "stream",
     "text": [
      "45/45 [==============================] - 18s 399ms/step\n"
     ]
    }
   ],
   "source": [
    "#test_dataset.reset()\n",
    "predict_on_test_data = model1.predict(\n",
    "    test_dataset,\n",
    "    #steps = 3591,\n",
    "    verbose = 1\n",
    ")"
   ]
  },
  {
   "cell_type": "code",
   "execution_count": 40,
   "id": "f47c53c8",
   "metadata": {},
   "outputs": [
    {
     "name": "stdout",
     "output_type": "stream",
     "text": [
      "Number of data points in test set: 1426\n"
     ]
    }
   ],
   "source": [
    "print('Number of data points in test set:',predict_on_test_data.shape[0])"
   ]
  },
  {
   "cell_type": "code",
   "execution_count": 41,
   "id": "d354944e",
   "metadata": {},
   "outputs": [],
   "source": [
    "predicted_classes = np.argmax(predict_on_test_data,axis=1)\n",
    "predict_true_classes = test_dataset.classes\n",
    "predict_class_labels = list(test_dataset.class_indices.keys())"
   ]
  },
  {
   "cell_type": "code",
   "execution_count": 42,
   "id": "55b1a192",
   "metadata": {},
   "outputs": [
    {
     "name": "stdout",
     "output_type": "stream",
     "text": [
      "              precision    recall  f1-score   support\n",
      "\n",
      "   BD Normal       1.00      1.00      1.00       713\n",
      " BD Parallel       1.00      1.00      1.00       713\n",
      "\n",
      "    accuracy                           1.00      1426\n",
      "   macro avg       1.00      1.00      1.00      1426\n",
      "weighted avg       1.00      1.00      1.00      1426\n",
      "\n"
     ]
    }
   ],
   "source": [
    "test_report = metrics.classification_report(predict_true_classes, predicted_classes, target_names = predict_class_labels)\n",
    "print(test_report)"
   ]
  },
  {
   "cell_type": "code",
   "execution_count": 43,
   "id": "b622ba60",
   "metadata": {},
   "outputs": [
    {
     "name": "stdout",
     "output_type": "stream",
     "text": [
      "[[713   0]\n",
      " [  0 713]]\n"
     ]
    }
   ],
   "source": [
    "test_confusion_matrix = tf.math.confusion_matrix(labels=predict_true_classes,predictions = predicted_classes).numpy()\n",
    "print(test_confusion_matrix)"
   ]
  },
  {
   "cell_type": "code",
   "execution_count": 44,
   "id": "fc1172f0",
   "metadata": {},
   "outputs": [
    {
     "data": {
      "image/png": "[encoded data removed]",
      "text/plain": [
       "<Figure size 432x288 with 2 Axes>"
      ]
     },
     "metadata": {
      "needs_background": "light"
     },
     "output_type": "display_data"
    }
   ],
   "source": [
    "import seaborn as sns\n",
    "import matplotlib.pyplot as plt\n",
    "import numpy as np\n",
    "\n",
    "test_confusion_matrix = tf.math.confusion_matrix(labels=predict_true_classes, predictions=predicted_classes).numpy()\n",
    "\n",
    "sns.heatmap(test_confusion_matrix, annot=True, fmt='d', cmap='Blues')\n",
    "plt.xlabel('Predicted Classes')\n",
    "plt.ylabel('True Classes')\n",
    "plt.show()"
   ]
  },
  {
   "cell_type": "code",
   "execution_count": 45,
   "id": "e5cacdef",
   "metadata": {},
   "outputs": [
    {
     "data": {
      "image/png": "[encoded data removed]",
      "text/plain": [
       "<Figure size 432x288 with 2 Axes>"
      ]
     },
     "metadata": {
      "needs_background": "light"
     },
     "output_type": "display_data"
    }
   ],
   "source": [
    "figure1 = plt.figure()\n",
    "test_confusion_matrix = test_confusion_matrix.astype('float') / test_confusion_matrix.sum(axis=1)[:, np.newaxis]\n",
    "sns.heatmap(test_confusion_matrix, annot = True, cmap=plt.cm.Greens)\n",
    "plt.tight_layout()\n",
    "plt.ylabel('True Label')\n",
    "plt.xlabel('Predicted label')\n",
    "plt.savefig('Test data Confusion Matrix', dpi=250)\n",
    "plt.show()"
   ]
  },
  {
   "cell_type": "code",
   "execution_count": null,
   "id": "313a599c",
   "metadata": {},
   "outputs": [],
   "source": []
  },
  {
   "cell_type": "code",
   "execution_count": null,
   "id": "ba07827f",
   "metadata": {},
   "outputs": [],
   "source": []
  },
  {
   "cell_type": "code",
   "execution_count": null,
   "id": "188ab4d9",
   "metadata": {},
   "outputs": [],
   "source": []
  }
 ],
 "metadata": {
  "kernelspec": {
   "display_name": "Python 3 (ipykernel)",
   "language": "python",
   "name": "python3"
  },
  "language_info": {
   "codemirror_mode": {
    "name": "ipython",
    "version": 3
   },
   "file_extension": ".py",
   "mimetype": "text/x-python",
   "name": "python",
   "nbconvert_exporter": "python",
   "pygments_lexer": "ipython3",
   "version": "3.9.7"
  }
 },
 "nbformat": 4,
 "nbformat_minor": 5
}
