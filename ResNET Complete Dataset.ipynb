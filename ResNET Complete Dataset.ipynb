{
 "cells": [
  {
   "cell_type": "code",
   "execution_count": 1,
   "id": "09d8fe67",
   "metadata": {},
   "outputs": [
    {
     "name": "stderr",
     "output_type": "stream",
     "text": [
      "2023-07-04 14:25:15.313563: I tensorflow/core/util/util.cc:169] oneDNN custom operations are on. You may see slightly different numerical results due to floating-point round-off errors from different computation orders. To turn them off, set the environment variable `TF_ENABLE_ONEDNN_OPTS=0`.\n"
     ]
    },
    {
     "name": "stdout",
     "output_type": "stream",
     "text": [
      "Num GPUs Available:  1\n",
      "tensorflow version: 2.9.2\n",
      "PIL version: 7.1.2\n",
      "numpy version: 1.21.6\n",
      "matplotlib version: 3.2.2\n"
     ]
    }
   ],
   "source": [
    "import tensorflow as tf\n",
    "print(\"Num GPUs Available: \", len(tf.config.list_physical_devices('GPU')))\n",
    "print('tensorflow version:',tf.__version__)\n",
    "from tensorflow import keras\n",
    "from tensorflow.keras import layers\n",
    "from tensorflow.keras.models import Sequential\n",
    "from tensorflow.keras.preprocessing.image import ImageDataGenerator\n",
    "from tensorflow.keras.preprocessing import image\n",
    "\n",
    "import PIL\n",
    "print('PIL version:',PIL.__version__)\n",
    "import os\n",
    "import numpy as np\n",
    "print('numpy version:',np.__version__)\n",
    "import matplotlib\n",
    "import matplotlib.pyplot as plt\n",
    "print('matplotlib version:',matplotlib.__version__)\n",
    "import tensorflow_hub as hub\n",
    "from keras import applications\n",
    "\n",
    "import warnings\n",
    "warnings.filterwarnings(\"ignore\")\n",
    "\n",
    "# Shared Input Layer\n",
    "#from keras.utils import plot_model\n",
    "import tensorflow as tf\n",
    "from keras.models import Model\n",
    "from keras.layers import Input, Lambda\n",
    "from keras.layers import Dense\n",
    "from keras.layers import Flatten, Dropout, Dense\n",
    "from keras.layers.convolutional import Conv2D\n",
    "from keras.layers.pooling import MaxPooling2D\n",
    "from keras.layers import concatenate\n",
    "from keras import backend\n",
    "#from google.colab import drive\n",
    "from keras.callbacks import ModelCheckpoint\n",
    "\n",
    "from keras.preprocessing.image import ImageDataGenerator"
   ]
  },
  {
   "cell_type": "code",
   "execution_count": 2,
   "id": "fb8bf940",
   "metadata": {},
   "outputs": [
    {
     "name": "stdout",
     "output_type": "stream",
     "text": [
      "Tue Jul  4 14:25:18 2023       \n",
      "+-----------------------------------------------------------------------------+\n",
      "| NVIDIA-SMI 470.82.01    Driver Version: 470.82.01    CUDA Version: 11.4     |\n",
      "|-------------------------------+----------------------+----------------------+\n",
      "| GPU  Name        Persistence-M| Bus-Id        Disp.A | Volatile Uncorr. ECC |\n",
      "| Fan  Temp  Perf  Pwr:Usage/Cap|         Memory-Usage | GPU-Util  Compute M. |\n",
      "|                               |                      |               MIG M. |\n",
      "|===============================+======================+======================|\n",
      "|   0  Quadro RTX 4000     Off  | 00000000:3B:00.0  On |                  N/A |\n",
      "| 30%   46C    P5    19W / 125W |    287MiB /  7979MiB |     34%      Default |\n",
      "|                               |                      |                  N/A |\n",
      "+-------------------------------+----------------------+----------------------+\n",
      "                                                                               \n",
      "+-----------------------------------------------------------------------------+\n",
      "| Processes:                                                                  |\n",
      "|  GPU   GI   CI        PID   Type   Process name                  GPU Memory |\n",
      "|        ID   ID                                                   Usage      |\n",
      "|=============================================================================|\n",
      "|    0   N/A  N/A      2265      G   /usr/bin/X                        144MiB |\n",
      "|    0   N/A  N/A      4487      G   /usr/bin/gnome-shell               73MiB |\n",
      "|    0   N/A  N/A      5508      G   ...855563704541249292,131072       41MiB |\n",
      "|    0   N/A  N/A      6447      G   /usr/lib64/firefox/firefox          2MiB |\n",
      "|    0   N/A  N/A    116717      G   /usr/lib64/firefox/firefox         12MiB |\n",
      "|    0   N/A  N/A    117021      G   /usr/lib64/firefox/firefox          2MiB |\n",
      "|    0   N/A  N/A    120584      G   /usr/lib64/firefox/firefox          2MiB |\n",
      "+-----------------------------------------------------------------------------+\n"
     ]
    }
   ],
   "source": [
    "gpu_info = !nvidia-smi\n",
    "gpu_info = '\\n'.join(gpu_info)\n",
    "if gpu_info.find('failed') >= 0:\n",
    "  print('Not connected to a GPU')\n",
    "else:\n",
    "  print(gpu_info)"
   ]
  },
  {
   "cell_type": "code",
   "execution_count": 3,
   "id": "8cb273fb",
   "metadata": {},
   "outputs": [],
   "source": [
    "batch_size = 32\n",
    "img_height = 224\n",
    "img_width = 224"
   ]
  },
  {
   "cell_type": "code",
   "execution_count": 4,
   "id": "27ded253",
   "metadata": {},
   "outputs": [],
   "source": [
    "# # # Creating Train / Val / Test folders (One time use)\n",
    "# import os\n",
    "# import numpy as np\n",
    "# import shutil\n",
    "# import random\n",
    "# root_dir = '/home/mishra/Documents/Ayesha/Ayesha 2/complete Dataset' # data root path\n",
    "# classes_dir = ['BD Normal'] #total labels\n",
    "\n",
    "# val_ratio = 0.10\n",
    "# test_ratio = 0.10\n",
    "\n",
    "# for cls in classes_dir:\n",
    "#     os.makedirs(root_dir +'train_/' + cls)\n",
    "#     os.makedirs(root_dir +'val_/' + cls)\n",
    "#     os.makedirs(root_dir +'test_/' + cls)\n",
    "\n",
    "\n",
    "# # Creating partitions of the data after shuffeling\n",
    "# src = root_dir +'/'+cls # Folder to copy images from\n",
    "\n",
    "# allFileNames = os.listdir(src)\n",
    "# np.random.shuffle(allFileNames)\n",
    "# train_FileNames, val_FileNames, test_FileNames = np.split(np.array(allFileNames),\n",
    "#                                                           [int(len(allFileNames)* (1 - (val_ratio + test_ratio))), \n",
    "#                                                            int(len(allFileNames)* (1 - test_ratio))])\n",
    "\n",
    "\n",
    "# train_FileNames = [src+'/'+ name for name in train_FileNames.tolist()]\n",
    "# val_FileNames = [src+'/' + name for name in val_FileNames.tolist()]\n",
    "# test_FileNames = [src+'/' + name for name in test_FileNames.tolist()]\n",
    "\n",
    "# print('Total images: ', len(allFileNames))\n",
    "# print('Training: ', len(train_FileNames))\n",
    "# print('Validation: ', len(val_FileNames))\n",
    "# print('Testing: ', len(test_FileNames))\n",
    "\n",
    "# # Copy-pasting images\n",
    "# for cls in classes_dir:\n",
    "#        # Copy-pasting images\n",
    "#         for name in train_FileNames:\n",
    "#               shutil.copy(name, root_dir +'train_/' + cls)\n",
    "\n",
    "#         for name in val_FileNames:\n",
    "#               shutil.copy(name, root_dir +'val_/' + cls)\n",
    "\n",
    "#         for name in test_FileNames:\n",
    "#                shutil.copy(name, root_dir +'test_/' + cls)"
   ]
  },
  {
   "cell_type": "code",
   "execution_count": 5,
   "id": "3b2beaa4",
   "metadata": {},
   "outputs": [],
   "source": [
    "# # # Creating Train / Val / Test folders (One time use)\n",
    "# import os\n",
    "# import numpy as np\n",
    "# import shutil\n",
    "# import random\n",
    "# root_dir = '/home/mishra/Documents/Ayesha/Ayesha 2/complete Dataset' # data root path\n",
    "# classes_dir = ['BD Parallel'] #total labels\n",
    "\n",
    "# val_ratio = 0.10\n",
    "# test_ratio = 0.10\n",
    "\n",
    "# for cls in classes_dir:\n",
    "#     os.makedirs(root_dir +'train_/' + cls)\n",
    "#     os.makedirs(root_dir +'val_/' + cls)\n",
    "#     os.makedirs(root_dir +'test_/' + cls)\n",
    "\n",
    "\n",
    "# # Creating partitions of the data after shuffeling\n",
    "# src = root_dir +'/'+cls # Folder to copy images from\n",
    "\n",
    "# allFileNames = os.listdir(src)\n",
    "# np.random.shuffle(allFileNames)\n",
    "# train_FileNames, val_FileNames, test_FileNames = np.split(np.array(allFileNames),\n",
    "#                                                           [int(len(allFileNames)* (1 - (val_ratio + test_ratio))), \n",
    "#                                                            int(len(allFileNames)* (1 - test_ratio))])\n",
    "\n",
    "\n",
    "# train_FileNames = [src+'/'+ name for name in train_FileNames.tolist()]\n",
    "# val_FileNames = [src+'/' + name for name in val_FileNames.tolist()]\n",
    "# test_FileNames = [src+'/' + name for name in test_FileNames.tolist()]\n",
    "\n",
    "# print('Total images: ', len(allFileNames))\n",
    "# print('Training: ', len(train_FileNames))\n",
    "# print('Validation: ', len(val_FileNames))\n",
    "# print('Testing: ', len(test_FileNames))\n",
    "\n",
    "# for cls in classes_dir:\n",
    "#        # Copy-pasting images\n",
    "#         for name in train_FileNames:\n",
    "#               shutil.copy(name, root_dir +'train_/' + cls)\n",
    "\n",
    "#         for name in val_FileNames:\n",
    "#               shutil.copy(name, root_dir +'val_/' + cls)\n",
    "\n",
    "#         for name in test_FileNames:\n",
    "#                shutil.copy(name, root_dir +'test_/' + cls)"
   ]
  },
  {
   "cell_type": "code",
   "execution_count": 6,
   "id": "08a993c0",
   "metadata": {},
   "outputs": [],
   "source": [
    "train_datagen = ImageDataGenerator(rescale=1./255)"
   ]
  },
  {
   "cell_type": "code",
   "execution_count": 7,
   "id": "ff89e21e",
   "metadata": {},
   "outputs": [
    {
     "name": "stdout",
     "output_type": "stream",
     "text": [
      "Found 28723 images belonging to 2 classes.\n"
     ]
    }
   ],
   "source": [
    "train_dataset = train_datagen.flow_from_directory(\n",
    "        '/home/mishra/Documents/Ayesha/Ayesha 2/complete Datasettrain_',\n",
    "        target_size=(224, 224),\n",
    "        batch_size=batch_size,\n",
    "        shuffle=True,\n",
    "        class_mode='categorical',\n",
    "         color_mode = 'rgb')"
   ]
  },
  {
   "cell_type": "code",
   "execution_count": 8,
   "id": "6f1c75f2",
   "metadata": {},
   "outputs": [],
   "source": [
    "validation_datagen = ImageDataGenerator(rescale=1./255)"
   ]
  },
  {
   "cell_type": "code",
   "execution_count": 9,
   "id": "3c433cb0",
   "metadata": {},
   "outputs": [
    {
     "name": "stdout",
     "output_type": "stream",
     "text": [
      "Found 3590 images belonging to 2 classes.\n"
     ]
    }
   ],
   "source": [
    "validation_dataset = validation_datagen.flow_from_directory(\n",
    "        '/home/mishra/Documents/Ayesha/Ayesha 2/complete Datasetval_',\n",
    "        target_size=(224, 224),\n",
    "        batch_size=batch_size,\n",
    "        shuffle=False,\n",
    "        class_mode='categorical',\n",
    "         color_mode = 'rgb')\n"
   ]
  },
  {
   "cell_type": "code",
   "execution_count": 10,
   "id": "188ea9d8",
   "metadata": {},
   "outputs": [],
   "source": [
    "test_datagen = ImageDataGenerator(rescale=1./255)"
   ]
  },
  {
   "cell_type": "code",
   "execution_count": 11,
   "id": "426e2aea",
   "metadata": {},
   "outputs": [
    {
     "name": "stdout",
     "output_type": "stream",
     "text": [
      "Found 3591 images belonging to 2 classes.\n"
     ]
    }
   ],
   "source": [
    "test_dataset = test_datagen.flow_from_directory(\n",
    "     '/home/mishra/Documents/Ayesha/Ayesha 2/complete Datasettest_',\n",
    "    target_size=(224, 224),\n",
    "    batch_size=batch_size,\n",
    "    shuffle=False,\n",
    "        class_mode='categorical',\n",
    "         color_mode = 'rgb')"
   ]
  },
  {
   "cell_type": "code",
   "execution_count": 12,
   "id": "81796272",
   "metadata": {},
   "outputs": [
    {
     "name": "stdout",
     "output_type": "stream",
     "text": [
      "(32, 224, 224, 3)\n",
      "(32, 2)\n"
     ]
    }
   ],
   "source": [
    "for image_batch, label_batch in train_dataset:\n",
    "    print(image_batch.shape)\n",
    "    print(label_batch.shape)\n",
    "    break"
   ]
  },
  {
   "cell_type": "code",
   "execution_count": 13,
   "id": "6c5fd4d7",
   "metadata": {},
   "outputs": [
    {
     "name": "stdout",
     "output_type": "stream",
     "text": [
      "{'BD Normal': 0, 'BD Parallel': 1}\n",
      "{'BD Normal': 0, 'BD Parallel': 1}\n"
     ]
    }
   ],
   "source": [
    "class_names_train = train_dataset.class_indices\n",
    "print(class_names_train)\n",
    "class_names_validation = validation_dataset.class_indices\n",
    "print(class_names_validation)"
   ]
  },
  {
   "cell_type": "code",
   "execution_count": 14,
   "id": "8f1d8064",
   "metadata": {},
   "outputs": [
    {
     "name": "stderr",
     "output_type": "stream",
     "text": [
      "2023-07-04 14:25:20.389223: I tensorflow/core/platform/cpu_feature_guard.cc:193] This TensorFlow binary is optimized with oneAPI Deep Neural Network Library (oneDNN) to use the following CPU instructions in performance-critical operations:  AVX2 AVX512F AVX512_VNNI FMA\n",
      "To enable them in other operations, rebuild TensorFlow with the appropriate compiler flags.\n",
      "2023-07-04 14:25:21.256274: I tensorflow/core/common_runtime/gpu/gpu_device.cc:1532] Created device /job:localhost/replica:0/task:0/device:GPU:0 with 6380 MB memory:  -> device: 0, name: Quadro RTX 4000, pci bus id: 0000:3b:00.0, compute capability: 7.5\n"
     ]
    }
   ],
   "source": [
    "base_model1 = tf.keras.applications.ResNet50(weights='imagenet',\n",
    "                                include_top=False, \n",
    "                                input_shape=(224, 224,3))"
   ]
  },
  {
   "cell_type": "code",
   "execution_count": 15,
   "id": "ab572b37",
   "metadata": {},
   "outputs": [
    {
     "name": "stdout",
     "output_type": "stream",
     "text": [
      "Model: \"resnet50\"\n",
      "__________________________________________________________________________________________________\n",
      " Layer (type)                   Output Shape         Param #     Connected to                     \n",
      "==================================================================================================\n",
      " input_1 (InputLayer)           [(None, 224, 224, 3  0           []                               \n",
      "                                )]                                                                \n",
      "                                                                                                  \n",
      " conv1_pad (ZeroPadding2D)      (None, 230, 230, 3)  0           ['input_1[0][0]']                \n",
      "                                                                                                  \n",
      " conv1_conv (Conv2D)            (None, 112, 112, 64  9472        ['conv1_pad[0][0]']              \n",
      "                                )                                                                 \n",
      "                                                                                                  \n",
      " conv1_bn (BatchNormalization)  (None, 112, 112, 64  256         ['conv1_conv[0][0]']             \n",
      "                                )                                                                 \n",
      "                                                                                                  \n",
      " conv1_relu (Activation)        (None, 112, 112, 64  0           ['conv1_bn[0][0]']               \n",
      "                                )                                                                 \n",
      "                                                                                                  \n",
      " pool1_pad (ZeroPadding2D)      (None, 114, 114, 64  0           ['conv1_relu[0][0]']             \n",
      "                                )                                                                 \n",
      "                                                                                                  \n",
      " pool1_pool (MaxPooling2D)      (None, 56, 56, 64)   0           ['pool1_pad[0][0]']              \n",
      "                                                                                                  \n",
      " conv2_block1_1_conv (Conv2D)   (None, 56, 56, 64)   4160        ['pool1_pool[0][0]']             \n",
      "                                                                                                  \n",
      " conv2_block1_1_bn (BatchNormal  (None, 56, 56, 64)  256         ['conv2_block1_1_conv[0][0]']    \n",
      " ization)                                                                                         \n",
      "                                                                                                  \n",
      " conv2_block1_1_relu (Activatio  (None, 56, 56, 64)  0           ['conv2_block1_1_bn[0][0]']      \n",
      " n)                                                                                               \n",
      "                                                                                                  \n",
      " conv2_block1_2_conv (Conv2D)   (None, 56, 56, 64)   36928       ['conv2_block1_1_relu[0][0]']    \n",
      "                                                                                                  \n",
      " conv2_block1_2_bn (BatchNormal  (None, 56, 56, 64)  256         ['conv2_block1_2_conv[0][0]']    \n",
      " ization)                                                                                         \n",
      "                                                                                                  \n",
      " conv2_block1_2_relu (Activatio  (None, 56, 56, 64)  0           ['conv2_block1_2_bn[0][0]']      \n",
      " n)                                                                                               \n",
      "                                                                                                  \n",
      " conv2_block1_0_conv (Conv2D)   (None, 56, 56, 256)  16640       ['pool1_pool[0][0]']             \n",
      "                                                                                                  \n",
      " conv2_block1_3_conv (Conv2D)   (None, 56, 56, 256)  16640       ['conv2_block1_2_relu[0][0]']    \n",
      "                                                                                                  \n",
      " conv2_block1_0_bn (BatchNormal  (None, 56, 56, 256)  1024       ['conv2_block1_0_conv[0][0]']    \n",
      " ization)                                                                                         \n",
      "                                                                                                  \n",
      " conv2_block1_3_bn (BatchNormal  (None, 56, 56, 256)  1024       ['conv2_block1_3_conv[0][0]']    \n",
      " ization)                                                                                         \n",
      "                                                                                                  \n",
      " conv2_block1_add (Add)         (None, 56, 56, 256)  0           ['conv2_block1_0_bn[0][0]',      \n",
      "                                                                  'conv2_block1_3_bn[0][0]']      \n",
      "                                                                                                  \n",
      " conv2_block1_out (Activation)  (None, 56, 56, 256)  0           ['conv2_block1_add[0][0]']       \n",
      "                                                                                                  \n",
      " conv2_block2_1_conv (Conv2D)   (None, 56, 56, 64)   16448       ['conv2_block1_out[0][0]']       \n",
      "                                                                                                  \n",
      " conv2_block2_1_bn (BatchNormal  (None, 56, 56, 64)  256         ['conv2_block2_1_conv[0][0]']    \n",
      " ization)                                                                                         \n",
      "                                                                                                  \n",
      " conv2_block2_1_relu (Activatio  (None, 56, 56, 64)  0           ['conv2_block2_1_bn[0][0]']      \n",
      " n)                                                                                               \n",
      "                                                                                                  \n",
      " conv2_block2_2_conv (Conv2D)   (None, 56, 56, 64)   36928       ['conv2_block2_1_relu[0][0]']    \n",
      "                                                                                                  \n",
      " conv2_block2_2_bn (BatchNormal  (None, 56, 56, 64)  256         ['conv2_block2_2_conv[0][0]']    \n",
      " ization)                                                                                         \n",
      "                                                                                                  \n",
      " conv2_block2_2_relu (Activatio  (None, 56, 56, 64)  0           ['conv2_block2_2_bn[0][0]']      \n",
      " n)                                                                                               \n",
      "                                                                                                  \n",
      " conv2_block2_3_conv (Conv2D)   (None, 56, 56, 256)  16640       ['conv2_block2_2_relu[0][0]']    \n",
      "                                                                                                  \n",
      " conv2_block2_3_bn (BatchNormal  (None, 56, 56, 256)  1024       ['conv2_block2_3_conv[0][0]']    \n",
      " ization)                                                                                         \n",
      "                                                                                                  \n",
      " conv2_block2_add (Add)         (None, 56, 56, 256)  0           ['conv2_block1_out[0][0]',       \n",
      "                                                                  'conv2_block2_3_bn[0][0]']      \n",
      "                                                                                                  \n",
      " conv2_block2_out (Activation)  (None, 56, 56, 256)  0           ['conv2_block2_add[0][0]']       \n",
      "                                                                                                  \n",
      " conv2_block3_1_conv (Conv2D)   (None, 56, 56, 64)   16448       ['conv2_block2_out[0][0]']       \n",
      "                                                                                                  \n",
      " conv2_block3_1_bn (BatchNormal  (None, 56, 56, 64)  256         ['conv2_block3_1_conv[0][0]']    \n",
      " ization)                                                                                         \n"
     ]
    },
    {
     "name": "stdout",
     "output_type": "stream",
     "text": [
      "                                                                                                  \n",
      " conv2_block3_1_relu (Activatio  (None, 56, 56, 64)  0           ['conv2_block3_1_bn[0][0]']      \n",
      " n)                                                                                               \n",
      "                                                                                                  \n",
      " conv2_block3_2_conv (Conv2D)   (None, 56, 56, 64)   36928       ['conv2_block3_1_relu[0][0]']    \n",
      "                                                                                                  \n",
      " conv2_block3_2_bn (BatchNormal  (None, 56, 56, 64)  256         ['conv2_block3_2_conv[0][0]']    \n",
      " ization)                                                                                         \n",
      "                                                                                                  \n",
      " conv2_block3_2_relu (Activatio  (None, 56, 56, 64)  0           ['conv2_block3_2_bn[0][0]']      \n",
      " n)                                                                                               \n",
      "                                                                                                  \n",
      " conv2_block3_3_conv (Conv2D)   (None, 56, 56, 256)  16640       ['conv2_block3_2_relu[0][0]']    \n",
      "                                                                                                  \n",
      " conv2_block3_3_bn (BatchNormal  (None, 56, 56, 256)  1024       ['conv2_block3_3_conv[0][0]']    \n",
      " ization)                                                                                         \n",
      "                                                                                                  \n",
      " conv2_block3_add (Add)         (None, 56, 56, 256)  0           ['conv2_block2_out[0][0]',       \n",
      "                                                                  'conv2_block3_3_bn[0][0]']      \n",
      "                                                                                                  \n",
      " conv2_block3_out (Activation)  (None, 56, 56, 256)  0           ['conv2_block3_add[0][0]']       \n",
      "                                                                                                  \n",
      " conv3_block1_1_conv (Conv2D)   (None, 28, 28, 128)  32896       ['conv2_block3_out[0][0]']       \n",
      "                                                                                                  \n",
      " conv3_block1_1_bn (BatchNormal  (None, 28, 28, 128)  512        ['conv3_block1_1_conv[0][0]']    \n",
      " ization)                                                                                         \n",
      "                                                                                                  \n",
      " conv3_block1_1_relu (Activatio  (None, 28, 28, 128)  0          ['conv3_block1_1_bn[0][0]']      \n",
      " n)                                                                                               \n",
      "                                                                                                  \n",
      " conv3_block1_2_conv (Conv2D)   (None, 28, 28, 128)  147584      ['conv3_block1_1_relu[0][0]']    \n",
      "                                                                                                  \n",
      " conv3_block1_2_bn (BatchNormal  (None, 28, 28, 128)  512        ['conv3_block1_2_conv[0][0]']    \n",
      " ization)                                                                                         \n",
      "                                                                                                  \n",
      " conv3_block1_2_relu (Activatio  (None, 28, 28, 128)  0          ['conv3_block1_2_bn[0][0]']      \n",
      " n)                                                                                               \n",
      "                                                                                                  \n",
      " conv3_block1_0_conv (Conv2D)   (None, 28, 28, 512)  131584      ['conv2_block3_out[0][0]']       \n",
      "                                                                                                  \n",
      " conv3_block1_3_conv (Conv2D)   (None, 28, 28, 512)  66048       ['conv3_block1_2_relu[0][0]']    \n",
      "                                                                                                  \n",
      " conv3_block1_0_bn (BatchNormal  (None, 28, 28, 512)  2048       ['conv3_block1_0_conv[0][0]']    \n",
      " ization)                                                                                         \n",
      "                                                                                                  \n",
      " conv3_block1_3_bn (BatchNormal  (None, 28, 28, 512)  2048       ['conv3_block1_3_conv[0][0]']    \n",
      " ization)                                                                                         \n",
      "                                                                                                  \n",
      " conv3_block1_add (Add)         (None, 28, 28, 512)  0           ['conv3_block1_0_bn[0][0]',      \n",
      "                                                                  'conv3_block1_3_bn[0][0]']      \n",
      "                                                                                                  \n",
      " conv3_block1_out (Activation)  (None, 28, 28, 512)  0           ['conv3_block1_add[0][0]']       \n",
      "                                                                                                  \n",
      " conv3_block2_1_conv (Conv2D)   (None, 28, 28, 128)  65664       ['conv3_block1_out[0][0]']       \n",
      "                                                                                                  \n",
      " conv3_block2_1_bn (BatchNormal  (None, 28, 28, 128)  512        ['conv3_block2_1_conv[0][0]']    \n",
      " ization)                                                                                         \n",
      "                                                                                                  \n",
      " conv3_block2_1_relu (Activatio  (None, 28, 28, 128)  0          ['conv3_block2_1_bn[0][0]']      \n",
      " n)                                                                                               \n",
      "                                                                                                  \n",
      " conv3_block2_2_conv (Conv2D)   (None, 28, 28, 128)  147584      ['conv3_block2_1_relu[0][0]']    \n",
      "                                                                                                  \n",
      " conv3_block2_2_bn (BatchNormal  (None, 28, 28, 128)  512        ['conv3_block2_2_conv[0][0]']    \n",
      " ization)                                                                                         \n",
      "                                                                                                  \n",
      " conv3_block2_2_relu (Activatio  (None, 28, 28, 128)  0          ['conv3_block2_2_bn[0][0]']      \n",
      " n)                                                                                               \n",
      "                                                                                                  \n",
      " conv3_block2_3_conv (Conv2D)   (None, 28, 28, 512)  66048       ['conv3_block2_2_relu[0][0]']    \n",
      "                                                                                                  \n",
      " conv3_block2_3_bn (BatchNormal  (None, 28, 28, 512)  2048       ['conv3_block2_3_conv[0][0]']    \n",
      " ization)                                                                                         \n",
      "                                                                                                  \n",
      " conv3_block2_add (Add)         (None, 28, 28, 512)  0           ['conv3_block1_out[0][0]',       \n",
      "                                                                  'conv3_block2_3_bn[0][0]']      \n",
      "                                                                                                  \n",
      " conv3_block2_out (Activation)  (None, 28, 28, 512)  0           ['conv3_block2_add[0][0]']       \n",
      "                                                                                                  \n",
      " conv3_block3_1_conv (Conv2D)   (None, 28, 28, 128)  65664       ['conv3_block2_out[0][0]']       \n",
      "                                                                                                  \n",
      " conv3_block3_1_bn (BatchNormal  (None, 28, 28, 128)  512        ['conv3_block3_1_conv[0][0]']    \n",
      " ization)                                                                                         \n"
     ]
    },
    {
     "name": "stdout",
     "output_type": "stream",
     "text": [
      "                                                                                                  \n",
      " conv3_block3_1_relu (Activatio  (None, 28, 28, 128)  0          ['conv3_block3_1_bn[0][0]']      \n",
      " n)                                                                                               \n",
      "                                                                                                  \n",
      " conv3_block3_2_conv (Conv2D)   (None, 28, 28, 128)  147584      ['conv3_block3_1_relu[0][0]']    \n",
      "                                                                                                  \n",
      " conv3_block3_2_bn (BatchNormal  (None, 28, 28, 128)  512        ['conv3_block3_2_conv[0][0]']    \n",
      " ization)                                                                                         \n",
      "                                                                                                  \n",
      " conv3_block3_2_relu (Activatio  (None, 28, 28, 128)  0          ['conv3_block3_2_bn[0][0]']      \n",
      " n)                                                                                               \n",
      "                                                                                                  \n",
      " conv3_block3_3_conv (Conv2D)   (None, 28, 28, 512)  66048       ['conv3_block3_2_relu[0][0]']    \n",
      "                                                                                                  \n",
      " conv3_block3_3_bn (BatchNormal  (None, 28, 28, 512)  2048       ['conv3_block3_3_conv[0][0]']    \n",
      " ization)                                                                                         \n",
      "                                                                                                  \n",
      " conv3_block3_add (Add)         (None, 28, 28, 512)  0           ['conv3_block2_out[0][0]',       \n",
      "                                                                  'conv3_block3_3_bn[0][0]']      \n",
      "                                                                                                  \n",
      " conv3_block3_out (Activation)  (None, 28, 28, 512)  0           ['conv3_block3_add[0][0]']       \n",
      "                                                                                                  \n",
      " conv3_block4_1_conv (Conv2D)   (None, 28, 28, 128)  65664       ['conv3_block3_out[0][0]']       \n",
      "                                                                                                  \n",
      " conv3_block4_1_bn (BatchNormal  (None, 28, 28, 128)  512        ['conv3_block4_1_conv[0][0]']    \n",
      " ization)                                                                                         \n",
      "                                                                                                  \n",
      " conv3_block4_1_relu (Activatio  (None, 28, 28, 128)  0          ['conv3_block4_1_bn[0][0]']      \n",
      " n)                                                                                               \n",
      "                                                                                                  \n",
      " conv3_block4_2_conv (Conv2D)   (None, 28, 28, 128)  147584      ['conv3_block4_1_relu[0][0]']    \n",
      "                                                                                                  \n",
      " conv3_block4_2_bn (BatchNormal  (None, 28, 28, 128)  512        ['conv3_block4_2_conv[0][0]']    \n",
      " ization)                                                                                         \n",
      "                                                                                                  \n",
      " conv3_block4_2_relu (Activatio  (None, 28, 28, 128)  0          ['conv3_block4_2_bn[0][0]']      \n",
      " n)                                                                                               \n",
      "                                                                                                  \n",
      " conv3_block4_3_conv (Conv2D)   (None, 28, 28, 512)  66048       ['conv3_block4_2_relu[0][0]']    \n",
      "                                                                                                  \n",
      " conv3_block4_3_bn (BatchNormal  (None, 28, 28, 512)  2048       ['conv3_block4_3_conv[0][0]']    \n",
      " ization)                                                                                         \n",
      "                                                                                                  \n",
      " conv3_block4_add (Add)         (None, 28, 28, 512)  0           ['conv3_block3_out[0][0]',       \n",
      "                                                                  'conv3_block4_3_bn[0][0]']      \n",
      "                                                                                                  \n",
      " conv3_block4_out (Activation)  (None, 28, 28, 512)  0           ['conv3_block4_add[0][0]']       \n",
      "                                                                                                  \n",
      " conv4_block1_1_conv (Conv2D)   (None, 14, 14, 256)  131328      ['conv3_block4_out[0][0]']       \n",
      "                                                                                                  \n",
      " conv4_block1_1_bn (BatchNormal  (None, 14, 14, 256)  1024       ['conv4_block1_1_conv[0][0]']    \n",
      " ization)                                                                                         \n",
      "                                                                                                  \n",
      " conv4_block1_1_relu (Activatio  (None, 14, 14, 256)  0          ['conv4_block1_1_bn[0][0]']      \n",
      " n)                                                                                               \n",
      "                                                                                                  \n",
      " conv4_block1_2_conv (Conv2D)   (None, 14, 14, 256)  590080      ['conv4_block1_1_relu[0][0]']    \n",
      "                                                                                                  \n",
      " conv4_block1_2_bn (BatchNormal  (None, 14, 14, 256)  1024       ['conv4_block1_2_conv[0][0]']    \n",
      " ization)                                                                                         \n",
      "                                                                                                  \n",
      " conv4_block1_2_relu (Activatio  (None, 14, 14, 256)  0          ['conv4_block1_2_bn[0][0]']      \n",
      " n)                                                                                               \n",
      "                                                                                                  \n",
      " conv4_block1_0_conv (Conv2D)   (None, 14, 14, 1024  525312      ['conv3_block4_out[0][0]']       \n",
      "                                )                                                                 \n",
      "                                                                                                  \n",
      " conv4_block1_3_conv (Conv2D)   (None, 14, 14, 1024  263168      ['conv4_block1_2_relu[0][0]']    \n",
      "                                )                                                                 \n",
      "                                                                                                  \n",
      " conv4_block1_0_bn (BatchNormal  (None, 14, 14, 1024  4096       ['conv4_block1_0_conv[0][0]']    \n",
      " ization)                       )                                                                 \n",
      "                                                                                                  \n",
      " conv4_block1_3_bn (BatchNormal  (None, 14, 14, 1024  4096       ['conv4_block1_3_conv[0][0]']    \n",
      " ization)                       )                                                                 \n",
      "                                                                                                  \n",
      " conv4_block1_add (Add)         (None, 14, 14, 1024  0           ['conv4_block1_0_bn[0][0]',      \n",
      "                                )                                 'conv4_block1_3_bn[0][0]']      \n",
      "                                                                                                  \n",
      " conv4_block1_out (Activation)  (None, 14, 14, 1024  0           ['conv4_block1_add[0][0]']       \n",
      "                                )                                                                 \n",
      "                                                                                                  \n",
      " conv4_block2_1_conv (Conv2D)   (None, 14, 14, 256)  262400      ['conv4_block1_out[0][0]']       \n"
     ]
    },
    {
     "name": "stdout",
     "output_type": "stream",
     "text": [
      "                                                                                                  \n",
      " conv4_block2_1_bn (BatchNormal  (None, 14, 14, 256)  1024       ['conv4_block2_1_conv[0][0]']    \n",
      " ization)                                                                                         \n",
      "                                                                                                  \n",
      " conv4_block2_1_relu (Activatio  (None, 14, 14, 256)  0          ['conv4_block2_1_bn[0][0]']      \n",
      " n)                                                                                               \n",
      "                                                                                                  \n",
      " conv4_block2_2_conv (Conv2D)   (None, 14, 14, 256)  590080      ['conv4_block2_1_relu[0][0]']    \n",
      "                                                                                                  \n",
      " conv4_block2_2_bn (BatchNormal  (None, 14, 14, 256)  1024       ['conv4_block2_2_conv[0][0]']    \n",
      " ization)                                                                                         \n",
      "                                                                                                  \n",
      " conv4_block2_2_relu (Activatio  (None, 14, 14, 256)  0          ['conv4_block2_2_bn[0][0]']      \n",
      " n)                                                                                               \n",
      "                                                                                                  \n",
      " conv4_block2_3_conv (Conv2D)   (None, 14, 14, 1024  263168      ['conv4_block2_2_relu[0][0]']    \n",
      "                                )                                                                 \n",
      "                                                                                                  \n",
      " conv4_block2_3_bn (BatchNormal  (None, 14, 14, 1024  4096       ['conv4_block2_3_conv[0][0]']    \n",
      " ization)                       )                                                                 \n",
      "                                                                                                  \n",
      " conv4_block2_add (Add)         (None, 14, 14, 1024  0           ['conv4_block1_out[0][0]',       \n",
      "                                )                                 'conv4_block2_3_bn[0][0]']      \n",
      "                                                                                                  \n",
      " conv4_block2_out (Activation)  (None, 14, 14, 1024  0           ['conv4_block2_add[0][0]']       \n",
      "                                )                                                                 \n",
      "                                                                                                  \n",
      " conv4_block3_1_conv (Conv2D)   (None, 14, 14, 256)  262400      ['conv4_block2_out[0][0]']       \n",
      "                                                                                                  \n",
      " conv4_block3_1_bn (BatchNormal  (None, 14, 14, 256)  1024       ['conv4_block3_1_conv[0][0]']    \n",
      " ization)                                                                                         \n",
      "                                                                                                  \n",
      " conv4_block3_1_relu (Activatio  (None, 14, 14, 256)  0          ['conv4_block3_1_bn[0][0]']      \n",
      " n)                                                                                               \n",
      "                                                                                                  \n",
      " conv4_block3_2_conv (Conv2D)   (None, 14, 14, 256)  590080      ['conv4_block3_1_relu[0][0]']    \n",
      "                                                                                                  \n",
      " conv4_block3_2_bn (BatchNormal  (None, 14, 14, 256)  1024       ['conv4_block3_2_conv[0][0]']    \n",
      " ization)                                                                                         \n",
      "                                                                                                  \n",
      " conv4_block3_2_relu (Activatio  (None, 14, 14, 256)  0          ['conv4_block3_2_bn[0][0]']      \n",
      " n)                                                                                               \n",
      "                                                                                                  \n",
      " conv4_block3_3_conv (Conv2D)   (None, 14, 14, 1024  263168      ['conv4_block3_2_relu[0][0]']    \n",
      "                                )                                                                 \n",
      "                                                                                                  \n",
      " conv4_block3_3_bn (BatchNormal  (None, 14, 14, 1024  4096       ['conv4_block3_3_conv[0][0]']    \n",
      " ization)                       )                                                                 \n",
      "                                                                                                  \n",
      " conv4_block3_add (Add)         (None, 14, 14, 1024  0           ['conv4_block2_out[0][0]',       \n",
      "                                )                                 'conv4_block3_3_bn[0][0]']      \n",
      "                                                                                                  \n",
      " conv4_block3_out (Activation)  (None, 14, 14, 1024  0           ['conv4_block3_add[0][0]']       \n",
      "                                )                                                                 \n",
      "                                                                                                  \n",
      " conv4_block4_1_conv (Conv2D)   (None, 14, 14, 256)  262400      ['conv4_block3_out[0][0]']       \n",
      "                                                                                                  \n",
      " conv4_block4_1_bn (BatchNormal  (None, 14, 14, 256)  1024       ['conv4_block4_1_conv[0][0]']    \n",
      " ization)                                                                                         \n",
      "                                                                                                  \n",
      " conv4_block4_1_relu (Activatio  (None, 14, 14, 256)  0          ['conv4_block4_1_bn[0][0]']      \n",
      " n)                                                                                               \n",
      "                                                                                                  \n",
      " conv4_block4_2_conv (Conv2D)   (None, 14, 14, 256)  590080      ['conv4_block4_1_relu[0][0]']    \n",
      "                                                                                                  \n",
      " conv4_block4_2_bn (BatchNormal  (None, 14, 14, 256)  1024       ['conv4_block4_2_conv[0][0]']    \n",
      " ization)                                                                                         \n",
      "                                                                                                  \n",
      " conv4_block4_2_relu (Activatio  (None, 14, 14, 256)  0          ['conv4_block4_2_bn[0][0]']      \n",
      " n)                                                                                               \n",
      "                                                                                                  \n",
      " conv4_block4_3_conv (Conv2D)   (None, 14, 14, 1024  263168      ['conv4_block4_2_relu[0][0]']    \n",
      "                                )                                                                 \n",
      "                                                                                                  \n",
      " conv4_block4_3_bn (BatchNormal  (None, 14, 14, 1024  4096       ['conv4_block4_3_conv[0][0]']    \n",
      " ization)                       )                                                                 \n",
      "                                                                                                  \n",
      " conv4_block4_add (Add)         (None, 14, 14, 1024  0           ['conv4_block3_out[0][0]',       \n",
      "                                )                                 'conv4_block4_3_bn[0][0]']      \n",
      "                                                                                                  \n",
      " conv4_block4_out (Activation)  (None, 14, 14, 1024  0           ['conv4_block4_add[0][0]']       \n",
      "                                )                                                                 \n",
      "                                                                                                  \n"
     ]
    },
    {
     "name": "stdout",
     "output_type": "stream",
     "text": [
      " conv4_block5_1_conv (Conv2D)   (None, 14, 14, 256)  262400      ['conv4_block4_out[0][0]']       \n",
      "                                                                                                  \n",
      " conv4_block5_1_bn (BatchNormal  (None, 14, 14, 256)  1024       ['conv4_block5_1_conv[0][0]']    \n",
      " ization)                                                                                         \n",
      "                                                                                                  \n",
      " conv4_block5_1_relu (Activatio  (None, 14, 14, 256)  0          ['conv4_block5_1_bn[0][0]']      \n",
      " n)                                                                                               \n",
      "                                                                                                  \n",
      " conv4_block5_2_conv (Conv2D)   (None, 14, 14, 256)  590080      ['conv4_block5_1_relu[0][0]']    \n",
      "                                                                                                  \n",
      " conv4_block5_2_bn (BatchNormal  (None, 14, 14, 256)  1024       ['conv4_block5_2_conv[0][0]']    \n",
      " ization)                                                                                         \n",
      "                                                                                                  \n",
      " conv4_block5_2_relu (Activatio  (None, 14, 14, 256)  0          ['conv4_block5_2_bn[0][0]']      \n",
      " n)                                                                                               \n",
      "                                                                                                  \n",
      " conv4_block5_3_conv (Conv2D)   (None, 14, 14, 1024  263168      ['conv4_block5_2_relu[0][0]']    \n",
      "                                )                                                                 \n",
      "                                                                                                  \n",
      " conv4_block5_3_bn (BatchNormal  (None, 14, 14, 1024  4096       ['conv4_block5_3_conv[0][0]']    \n",
      " ization)                       )                                                                 \n",
      "                                                                                                  \n",
      " conv4_block5_add (Add)         (None, 14, 14, 1024  0           ['conv4_block4_out[0][0]',       \n",
      "                                )                                 'conv4_block5_3_bn[0][0]']      \n",
      "                                                                                                  \n",
      " conv4_block5_out (Activation)  (None, 14, 14, 1024  0           ['conv4_block5_add[0][0]']       \n",
      "                                )                                                                 \n",
      "                                                                                                  \n",
      " conv4_block6_1_conv (Conv2D)   (None, 14, 14, 256)  262400      ['conv4_block5_out[0][0]']       \n",
      "                                                                                                  \n",
      " conv4_block6_1_bn (BatchNormal  (None, 14, 14, 256)  1024       ['conv4_block6_1_conv[0][0]']    \n",
      " ization)                                                                                         \n",
      "                                                                                                  \n",
      " conv4_block6_1_relu (Activatio  (None, 14, 14, 256)  0          ['conv4_block6_1_bn[0][0]']      \n",
      " n)                                                                                               \n",
      "                                                                                                  \n",
      " conv4_block6_2_conv (Conv2D)   (None, 14, 14, 256)  590080      ['conv4_block6_1_relu[0][0]']    \n",
      "                                                                                                  \n",
      " conv4_block6_2_bn (BatchNormal  (None, 14, 14, 256)  1024       ['conv4_block6_2_conv[0][0]']    \n",
      " ization)                                                                                         \n",
      "                                                                                                  \n",
      " conv4_block6_2_relu (Activatio  (None, 14, 14, 256)  0          ['conv4_block6_2_bn[0][0]']      \n",
      " n)                                                                                               \n",
      "                                                                                                  \n",
      " conv4_block6_3_conv (Conv2D)   (None, 14, 14, 1024  263168      ['conv4_block6_2_relu[0][0]']    \n",
      "                                )                                                                 \n",
      "                                                                                                  \n",
      " conv4_block6_3_bn (BatchNormal  (None, 14, 14, 1024  4096       ['conv4_block6_3_conv[0][0]']    \n",
      " ization)                       )                                                                 \n",
      "                                                                                                  \n",
      " conv4_block6_add (Add)         (None, 14, 14, 1024  0           ['conv4_block5_out[0][0]',       \n",
      "                                )                                 'conv4_block6_3_bn[0][0]']      \n",
      "                                                                                                  \n",
      " conv4_block6_out (Activation)  (None, 14, 14, 1024  0           ['conv4_block6_add[0][0]']       \n",
      "                                )                                                                 \n",
      "                                                                                                  \n",
      " conv5_block1_1_conv (Conv2D)   (None, 7, 7, 512)    524800      ['conv4_block6_out[0][0]']       \n",
      "                                                                                                  \n",
      " conv5_block1_1_bn (BatchNormal  (None, 7, 7, 512)   2048        ['conv5_block1_1_conv[0][0]']    \n",
      " ization)                                                                                         \n",
      "                                                                                                  \n",
      " conv5_block1_1_relu (Activatio  (None, 7, 7, 512)   0           ['conv5_block1_1_bn[0][0]']      \n",
      " n)                                                                                               \n",
      "                                                                                                  \n",
      " conv5_block1_2_conv (Conv2D)   (None, 7, 7, 512)    2359808     ['conv5_block1_1_relu[0][0]']    \n",
      "                                                                                                  \n",
      " conv5_block1_2_bn (BatchNormal  (None, 7, 7, 512)   2048        ['conv5_block1_2_conv[0][0]']    \n",
      " ization)                                                                                         \n",
      "                                                                                                  \n",
      " conv5_block1_2_relu (Activatio  (None, 7, 7, 512)   0           ['conv5_block1_2_bn[0][0]']      \n",
      " n)                                                                                               \n",
      "                                                                                                  \n",
      " conv5_block1_0_conv (Conv2D)   (None, 7, 7, 2048)   2099200     ['conv4_block6_out[0][0]']       \n",
      "                                                                                                  \n",
      " conv5_block1_3_conv (Conv2D)   (None, 7, 7, 2048)   1050624     ['conv5_block1_2_relu[0][0]']    \n",
      "                                                                                                  \n",
      " conv5_block1_0_bn (BatchNormal  (None, 7, 7, 2048)  8192        ['conv5_block1_0_conv[0][0]']    \n",
      " ization)                                                                                         \n",
      "                                                                                                  \n",
      " conv5_block1_3_bn (BatchNormal  (None, 7, 7, 2048)  8192        ['conv5_block1_3_conv[0][0]']    \n",
      " ization)                                                                                         \n",
      "                                                                                                  \n",
      " conv5_block1_add (Add)         (None, 7, 7, 2048)   0           ['conv5_block1_0_bn[0][0]',      \n"
     ]
    },
    {
     "name": "stdout",
     "output_type": "stream",
     "text": [
      "                                                                  'conv5_block1_3_bn[0][0]']      \n",
      "                                                                                                  \n",
      " conv5_block1_out (Activation)  (None, 7, 7, 2048)   0           ['conv5_block1_add[0][0]']       \n",
      "                                                                                                  \n",
      " conv5_block2_1_conv (Conv2D)   (None, 7, 7, 512)    1049088     ['conv5_block1_out[0][0]']       \n",
      "                                                                                                  \n",
      " conv5_block2_1_bn (BatchNormal  (None, 7, 7, 512)   2048        ['conv5_block2_1_conv[0][0]']    \n",
      " ization)                                                                                         \n",
      "                                                                                                  \n",
      " conv5_block2_1_relu (Activatio  (None, 7, 7, 512)   0           ['conv5_block2_1_bn[0][0]']      \n",
      " n)                                                                                               \n",
      "                                                                                                  \n",
      " conv5_block2_2_conv (Conv2D)   (None, 7, 7, 512)    2359808     ['conv5_block2_1_relu[0][0]']    \n",
      "                                                                                                  \n",
      " conv5_block2_2_bn (BatchNormal  (None, 7, 7, 512)   2048        ['conv5_block2_2_conv[0][0]']    \n",
      " ization)                                                                                         \n",
      "                                                                                                  \n",
      " conv5_block2_2_relu (Activatio  (None, 7, 7, 512)   0           ['conv5_block2_2_bn[0][0]']      \n",
      " n)                                                                                               \n",
      "                                                                                                  \n",
      " conv5_block2_3_conv (Conv2D)   (None, 7, 7, 2048)   1050624     ['conv5_block2_2_relu[0][0]']    \n",
      "                                                                                                  \n",
      " conv5_block2_3_bn (BatchNormal  (None, 7, 7, 2048)  8192        ['conv5_block2_3_conv[0][0]']    \n",
      " ization)                                                                                         \n",
      "                                                                                                  \n",
      " conv5_block2_add (Add)         (None, 7, 7, 2048)   0           ['conv5_block1_out[0][0]',       \n",
      "                                                                  'conv5_block2_3_bn[0][0]']      \n",
      "                                                                                                  \n",
      " conv5_block2_out (Activation)  (None, 7, 7, 2048)   0           ['conv5_block2_add[0][0]']       \n",
      "                                                                                                  \n",
      " conv5_block3_1_conv (Conv2D)   (None, 7, 7, 512)    1049088     ['conv5_block2_out[0][0]']       \n",
      "                                                                                                  \n",
      " conv5_block3_1_bn (BatchNormal  (None, 7, 7, 512)   2048        ['conv5_block3_1_conv[0][0]']    \n",
      " ization)                                                                                         \n",
      "                                                                                                  \n",
      " conv5_block3_1_relu (Activatio  (None, 7, 7, 512)   0           ['conv5_block3_1_bn[0][0]']      \n",
      " n)                                                                                               \n",
      "                                                                                                  \n",
      " conv5_block3_2_conv (Conv2D)   (None, 7, 7, 512)    2359808     ['conv5_block3_1_relu[0][0]']    \n",
      "                                                                                                  \n",
      " conv5_block3_2_bn (BatchNormal  (None, 7, 7, 512)   2048        ['conv5_block3_2_conv[0][0]']    \n",
      " ization)                                                                                         \n",
      "                                                                                                  \n",
      " conv5_block3_2_relu (Activatio  (None, 7, 7, 512)   0           ['conv5_block3_2_bn[0][0]']      \n",
      " n)                                                                                               \n",
      "                                                                                                  \n",
      " conv5_block3_3_conv (Conv2D)   (None, 7, 7, 2048)   1050624     ['conv5_block3_2_relu[0][0]']    \n",
      "                                                                                                  \n",
      " conv5_block3_3_bn (BatchNormal  (None, 7, 7, 2048)  8192        ['conv5_block3_3_conv[0][0]']    \n",
      " ization)                                                                                         \n",
      "                                                                                                  \n",
      " conv5_block3_add (Add)         (None, 7, 7, 2048)   0           ['conv5_block2_out[0][0]',       \n",
      "                                                                  'conv5_block3_3_bn[0][0]']      \n",
      "                                                                                                  \n",
      " conv5_block3_out (Activation)  (None, 7, 7, 2048)   0           ['conv5_block3_add[0][0]']       \n",
      "                                                                                                  \n",
      "==================================================================================================\n",
      "Total params: 23,587,712\n",
      "Trainable params: 23,534,592\n",
      "Non-trainable params: 53,120\n",
      "__________________________________________________________________________________________________\n"
     ]
    }
   ],
   "source": [
    "base_model1.summary()"
   ]
  },
  {
   "cell_type": "code",
   "execution_count": 16,
   "id": "f3f7d9d9",
   "metadata": {},
   "outputs": [
    {
     "name": "stdout",
     "output_type": "stream",
     "text": [
      "Model: \"sequential\"\n",
      "_________________________________________________________________\n",
      " Layer (type)                Output Shape              Param #   \n",
      "=================================================================\n",
      " resnet50 (Functional)       (None, 7, 7, 2048)        23587712  \n",
      "                                                                 \n",
      " flatten (Flatten)           (None, 100352)            0         \n",
      "                                                                 \n",
      " dropout (Dropout)           (None, 100352)            0         \n",
      "                                                                 \n",
      " dense (Dense)               (None, 2)                 200706    \n",
      "                                                                 \n",
      "=================================================================\n",
      "Total params: 23,788,418\n",
      "Trainable params: 23,735,298\n",
      "Non-trainable params: 53,120\n",
      "_________________________________________________________________\n"
     ]
    }
   ],
   "source": [
    "num = 2\n",
    "\n",
    "model1= tf.keras.Sequential([\n",
    "      base_model1,\n",
    "     layers.Flatten(),\n",
    "     #layers.Dense(512, activation='relu'),\n",
    "     layers.Dropout(0.5),\n",
    "  tf.keras.layers.Dense(num, activation = 'softmax' )\n",
    "])\n",
    "\n",
    "model1.summary()"
   ]
  },
  {
   "cell_type": "code",
   "execution_count": 17,
   "id": "f60c5860",
   "metadata": {
    "scrolled": true
   },
   "outputs": [
    {
     "name": "stdout",
     "output_type": "stream",
     "text": [
      "Epoch 1/50\n"
     ]
    },
    {
     "name": "stderr",
     "output_type": "stream",
     "text": [
      "2023-07-04 14:25:33.725966: I tensorflow/stream_executor/cuda/cuda_dnn.cc:384] Loaded cuDNN version 8100\n"
     ]
    },
    {
     "name": "stdout",
     "output_type": "stream",
     "text": [
      "898/898 [==============================] - 254s 269ms/step - loss: 0.2612 - acc: 0.9163 - val_loss: 1.0101 - val_acc: 0.7747\n",
      "Epoch 2/50\n",
      "898/898 [==============================] - 246s 274ms/step - loss: 0.0499 - acc: 0.9838 - val_loss: 0.0700 - val_acc: 0.9783\n",
      "Epoch 3/50\n",
      "898/898 [==============================] - 245s 273ms/step - loss: 0.0236 - acc: 0.9922 - val_loss: 0.0259 - val_acc: 0.9919\n",
      "Epoch 4/50\n",
      "898/898 [==============================] - 245s 273ms/step - loss: 0.0145 - acc: 0.9953 - val_loss: 0.0242 - val_acc: 0.9911\n",
      "Epoch 5/50\n",
      "898/898 [==============================] - 244s 272ms/step - loss: 0.0084 - acc: 0.9967 - val_loss: 0.0187 - val_acc: 0.9950\n",
      "Epoch 6/50\n",
      "898/898 [==============================] - 242s 270ms/step - loss: 0.0066 - acc: 0.9979 - val_loss: 0.0143 - val_acc: 0.9947\n",
      "Epoch 7/50\n",
      "898/898 [==============================] - 242s 270ms/step - loss: 0.0061 - acc: 0.9979 - val_loss: 0.0126 - val_acc: 0.9961\n",
      "Epoch 8/50\n",
      "898/898 [==============================] - 243s 270ms/step - loss: 0.0044 - acc: 0.9983 - val_loss: 0.0149 - val_acc: 0.9967\n",
      "Epoch 9/50\n",
      "898/898 [==============================] - 243s 270ms/step - loss: 0.0032 - acc: 0.9991 - val_loss: 0.0065 - val_acc: 0.9978\n",
      "Epoch 10/50\n",
      "898/898 [==============================] - 243s 270ms/step - loss: 0.0041 - acc: 0.9985 - val_loss: 0.0177 - val_acc: 0.9955\n",
      "Epoch 11/50\n",
      "898/898 [==============================] - 244s 271ms/step - loss: 0.0032 - acc: 0.9990 - val_loss: 0.0148 - val_acc: 0.9961\n",
      "Epoch 12/50\n",
      "898/898 [==============================] - 243s 271ms/step - loss: 0.0033 - acc: 0.9987 - val_loss: 0.0143 - val_acc: 0.9942\n",
      "Epoch 13/50\n",
      "898/898 [==============================] - 244s 271ms/step - loss: 0.0016 - acc: 0.9995 - val_loss: 0.0067 - val_acc: 0.9983\n",
      "Epoch 14/50\n",
      "898/898 [==============================] - 244s 271ms/step - loss: 0.0022 - acc: 0.9992 - val_loss: 0.0097 - val_acc: 0.9975\n",
      "Epoch 15/50\n",
      "898/898 [==============================] - 244s 272ms/step - loss: 0.0019 - acc: 0.9993 - val_loss: 0.0198 - val_acc: 0.9947\n",
      "Epoch 16/50\n",
      "898/898 [==============================] - 244s 272ms/step - loss: 0.0035 - acc: 0.9989 - val_loss: 0.0051 - val_acc: 0.9975\n",
      "Epoch 17/50\n",
      "898/898 [==============================] - 244s 272ms/step - loss: 0.0011 - acc: 0.9995 - val_loss: 0.0161 - val_acc: 0.9958\n",
      "Epoch 18/50\n",
      "898/898 [==============================] - 244s 271ms/step - loss: 0.0015 - acc: 0.9995 - val_loss: 0.0121 - val_acc: 0.9975\n",
      "Epoch 19/50\n",
      "898/898 [==============================] - 245s 272ms/step - loss: 7.6591e-04 - acc: 0.9997 - val_loss: 0.0054 - val_acc: 0.9981\n",
      "Epoch 20/50\n",
      "898/898 [==============================] - 245s 272ms/step - loss: 0.0015 - acc: 0.9995 - val_loss: 0.0038 - val_acc: 0.9983\n",
      "Epoch 21/50\n",
      "898/898 [==============================] - 244s 272ms/step - loss: 0.0017 - acc: 0.9995 - val_loss: 0.0026 - val_acc: 0.9986\n",
      "Epoch 22/50\n",
      "898/898 [==============================] - 245s 272ms/step - loss: 0.0021 - acc: 0.9995 - val_loss: 0.0019 - val_acc: 0.9992\n",
      "Epoch 23/50\n",
      "898/898 [==============================] - 245s 272ms/step - loss: 0.0013 - acc: 0.9997 - val_loss: 0.0014 - val_acc: 0.9992\n",
      "Epoch 24/50\n",
      "898/898 [==============================] - 244s 272ms/step - loss: 4.3911e-04 - acc: 0.9999 - val_loss: 0.0017 - val_acc: 0.9997\n",
      "Epoch 25/50\n",
      "898/898 [==============================] - 245s 272ms/step - loss: 3.6648e-04 - acc: 0.9999 - val_loss: 0.0018 - val_acc: 0.9994\n",
      "Epoch 26/50\n",
      "898/898 [==============================] - 245s 272ms/step - loss: 6.9809e-05 - acc: 1.0000 - val_loss: 6.2958e-04 - val_acc: 0.9997\n",
      "Epoch 27/50\n",
      "898/898 [==============================] - 245s 272ms/step - loss: 3.7898e-04 - acc: 0.9998 - val_loss: 0.0087 - val_acc: 0.9983\n",
      "Epoch 28/50\n",
      "898/898 [==============================] - 245s 272ms/step - loss: 0.0014 - acc: 0.9997 - val_loss: 0.0033 - val_acc: 0.9989\n",
      "Epoch 29/50\n",
      "898/898 [==============================] - 244s 272ms/step - loss: 0.0015 - acc: 0.9998 - val_loss: 0.0022 - val_acc: 0.9992\n",
      "Epoch 30/50\n",
      "898/898 [==============================] - 245s 272ms/step - loss: 5.2891e-04 - acc: 0.9998 - val_loss: 0.0060 - val_acc: 0.9981\n",
      "Epoch 31/50\n",
      "898/898 [==============================] - 245s 272ms/step - loss: 3.8193e-04 - acc: 0.9999 - val_loss: 0.0046 - val_acc: 0.9989\n",
      "Epoch 32/50\n",
      "898/898 [==============================] - 245s 273ms/step - loss: 5.8572e-04 - acc: 0.9999 - val_loss: 0.0050 - val_acc: 0.9983\n",
      "Epoch 33/50\n",
      "898/898 [==============================] - 245s 272ms/step - loss: 0.0019 - acc: 0.9994 - val_loss: 0.0090 - val_acc: 0.9978\n",
      "Epoch 34/50\n",
      "898/898 [==============================] - 245s 272ms/step - loss: 8.9047e-04 - acc: 0.9997 - val_loss: 0.0026 - val_acc: 0.9992\n",
      "Epoch 35/50\n",
      "898/898 [==============================] - 245s 272ms/step - loss: 7.3622e-04 - acc: 0.9998 - val_loss: 0.0019 - val_acc: 0.9994\n",
      "Epoch 36/50\n",
      "898/898 [==============================] - 245s 272ms/step - loss: 3.7637e-05 - acc: 1.0000 - val_loss: 0.0053 - val_acc: 0.9978\n",
      "Epoch 37/50\n",
      "898/898 [==============================] - 245s 272ms/step - loss: 3.2167e-05 - acc: 1.0000 - val_loss: 0.0019 - val_acc: 0.9994\n",
      "Epoch 38/50\n",
      "898/898 [==============================] - 246s 274ms/step - loss: 5.2434e-04 - acc: 0.9998 - val_loss: 0.0026 - val_acc: 0.9992\n",
      "Epoch 39/50\n",
      "898/898 [==============================] - 246s 273ms/step - loss: 8.0714e-04 - acc: 0.9997 - val_loss: 0.0042 - val_acc: 0.9989\n",
      "Epoch 40/50\n",
      "898/898 [==============================] - 246s 274ms/step - loss: 7.7445e-04 - acc: 0.9997 - val_loss: 0.0026 - val_acc: 0.9986\n",
      "Epoch 41/50\n",
      "898/898 [==============================] - 245s 273ms/step - loss: 9.3600e-04 - acc: 0.9997 - val_loss: 0.0034 - val_acc: 0.9994\n",
      "Epoch 42/50\n",
      "898/898 [==============================] - 246s 274ms/step - loss: 4.4498e-04 - acc: 0.9999 - val_loss: 0.0021 - val_acc: 0.9989\n",
      "Epoch 43/50\n",
      "898/898 [==============================] - 247s 275ms/step - loss: 2.2636e-04 - acc: 0.9999 - val_loss: 0.0060 - val_acc: 0.9989\n",
      "Epoch 44/50\n",
      "898/898 [==============================] - 248s 276ms/step - loss: 4.2842e-04 - acc: 0.9998 - val_loss: 0.0073 - val_acc: 0.9986\n",
      "Epoch 45/50\n",
      "898/898 [==============================] - 247s 275ms/step - loss: 0.0011 - acc: 0.9996 - val_loss: 0.0017 - val_acc: 0.9997\n",
      "Epoch 46/50\n",
      "898/898 [==============================] - 248s 276ms/step - loss: 1.5255e-04 - acc: 1.0000 - val_loss: 0.0014 - val_acc: 0.9997\n",
      "Epoch 47/50\n",
      "898/898 [==============================] - 248s 276ms/step - loss: 5.3334e-04 - acc: 0.9998 - val_loss: 0.0022 - val_acc: 0.9994\n",
      "Epoch 48/50\n",
      "898/898 [==============================] - 248s 276ms/step - loss: 5.4859e-04 - acc: 0.9998 - val_loss: 0.0060 - val_acc: 0.9983\n",
      "Epoch 49/50\n",
      "898/898 [==============================] - 249s 277ms/step - loss: 2.6920e-04 - acc: 0.9999 - val_loss: 0.0041 - val_acc: 0.9989\n",
      "Epoch 50/50\n",
      "898/898 [==============================] - 250s 278ms/step - loss: 0.0016 - acc: 0.9996 - val_loss: 0.0038 - val_acc: 0.9989\n"
     ]
    }
   ],
   "source": [
    "optimizers = tf.keras.optimizers.Adam(learning_rate = 0.00001)\n",
    "\n",
    "model1.compile(\n",
    "  optimizer=optimizers,\n",
    "  loss=tf.keras.losses.CategoricalCrossentropy(from_logits=False),\n",
    "  metrics=['acc'])\n",
    "\n",
    "history= model1.fit(train_dataset, \n",
    "                   validation_data = validation_dataset, \n",
    "                   epochs= 50)"
   ]
  },
  {
   "cell_type": "code",
   "execution_count": 18,
   "id": "613f75c9",
   "metadata": {},
   "outputs": [],
   "source": [
    "model1.save(\"Resnet_new.h5\")"
   ]
  },
  {
   "cell_type": "code",
   "execution_count": 19,
   "id": "11c8da75",
   "metadata": {},
   "outputs": [],
   "source": [
    "# from tensorflow.keras.models import load_model\n",
    "\n",
    "# # Load the saved model\n",
    "# loaded_model = load_model(\"model_VGG16_unseen_final_mixed.h5\")\n",
    "\n",
    "# # Perform evaluation on a test dataset\n",
    "# test_loss, test_accuracy = loaded_model.evaluate(test_dataset)\n",
    "\n",
    "# print(\"Test Loss:\", test_loss)\n",
    "# print(\"Test Accuracy:\", test_accuracy)\n",
    "\n",
    "# # Make predictions on new data\n",
    "# #predictions = loaded_model.predict(new_data)\n"
   ]
  },
  {
   "cell_type": "code",
   "execution_count": 20,
   "id": "4d0f2960",
   "metadata": {},
   "outputs": [],
   "source": [
    "# #Make predictions on new data\n",
    "# predictions = loaded_model.predict(test_dataset)\n"
   ]
  },
  {
   "cell_type": "code",
   "execution_count": 21,
   "id": "05aaafed",
   "metadata": {
    "scrolled": true
   },
   "outputs": [
    {
     "name": "stdout",
     "output_type": "stream",
     "text": [
      "113/113 [==============================] - 21s 182ms/step - loss: 0.0042 - acc: 0.9992\n"
     ]
    },
    {
     "data": {
      "text/plain": [
       "[0.004217136185616255, 0.9991645812988281]"
      ]
     },
     "execution_count": 21,
     "metadata": {},
     "output_type": "execute_result"
    }
   ],
   "source": [
    "model1.evaluate(test_dataset)"
   ]
  },
  {
   "cell_type": "code",
   "execution_count": 22,
   "id": "bd445e10",
   "metadata": {},
   "outputs": [
    {
     "data": {
      "image/png": "[encoded data removed]",
      "text/plain": [
       "<Figure size 432x288 with 1 Axes>"
      ]
     },
     "metadata": {
      "needs_background": "light"
     },
     "output_type": "display_data"
    }
   ],
   "source": [
    "plt.plot(history.history['acc'], label='Training accuracy')\n",
    "plt.plot(history.history['val_acc'], label = 'validation accuracy')\n",
    "plt.xlabel('Epoch')\n",
    "plt.ylabel('Accuracy')\n",
    "plt.ylim([0, 1])\n",
    "plt.legend(loc='lower right')\n",
    "\n",
    "plt.savefig('resnet_acc_new.png',bbox_inches=None)\n",
    "plt.show()"
   ]
  },
  {
   "cell_type": "code",
   "execution_count": 23,
   "id": "5429f146",
   "metadata": {},
   "outputs": [
    {
     "data": {
      "image/png": "[encoded data removed]",
      "text/plain": [
       "<Figure size 432x288 with 1 Axes>"
      ]
     },
     "metadata": {
      "needs_background": "light"
     },
     "output_type": "display_data"
    }
   ],
   "source": [
    "plt.plot(history.history['loss'], label='Training Loss')\n",
    "plt.plot(history.history['val_loss'], label = 'validation Loss')\n",
    "plt.xlabel('Epoch')\n",
    "plt.ylabel('Loss')\n",
    "plt.ylim([0, 1])\n",
    "plt.legend(loc='lower right')\n",
    "\n",
    "plt.savefig('Resnet_loss_new.png',bbox_inches=None)\n",
    "plt.show()"
   ]
  },
  {
   "cell_type": "code",
   "execution_count": null,
   "id": "61d5eaed",
   "metadata": {},
   "outputs": [],
   "source": []
  },
  {
   "cell_type": "code",
   "execution_count": 24,
   "id": "fb3f5e2a",
   "metadata": {},
   "outputs": [],
   "source": [
    "# print('Validate the model')\n",
    "# final_result = loaded_model.evaluate(\n",
    "#     validation_dataset,\n",
    "#     #steps = 3590\n",
    "# )"
   ]
  },
  {
   "cell_type": "code",
   "execution_count": 25,
   "id": "0e88930f",
   "metadata": {},
   "outputs": [],
   "source": [
    "# from time import time"
   ]
  },
  {
   "cell_type": "code",
   "execution_count": 26,
   "id": "6de7b114",
   "metadata": {},
   "outputs": [],
   "source": [
    "# t0 = time()\n",
    "# #validation_dataset.reset()\n",
    "# val_predict = loaded_model.predict(\n",
    "#     validation_dataset,\n",
    "# #     steps = 3590,\n",
    "#     verbose = 1)\n",
    "# print('Time taken to evaluate the model:',int(time()-t0),'seconds')"
   ]
  },
  {
   "cell_type": "code",
   "execution_count": 27,
   "id": "db2c8750",
   "metadata": {},
   "outputs": [],
   "source": [
    "# validation_samples = val_predict.shape[0]\n",
    "# print('Number of data points in validation set:',validation_samples)"
   ]
  },
  {
   "cell_type": "code",
   "execution_count": 28,
   "id": "9a374da1",
   "metadata": {},
   "outputs": [],
   "source": [
    "# val_predicted_classes = np.argmax(val_predict, axis = 1)\n",
    "# val_true_classes = validation_dataset.classes\n",
    "# val_class_labels = list(validation_dataset.class_indices.keys())"
   ]
  },
  {
   "cell_type": "code",
   "execution_count": 29,
   "id": "c91bf4c6",
   "metadata": {},
   "outputs": [],
   "source": [
    "import sklearn.metrics as metrics"
   ]
  },
  {
   "cell_type": "code",
   "execution_count": 30,
   "id": "d79a0c3c",
   "metadata": {},
   "outputs": [],
   "source": [
    "# validation_report = metrics.classification_report(val_true_classes, val_predicted_classes, target_names=val_class_labels)\n",
    "# print('The validation report is as follows:')\n",
    "# print(validation_report)"
   ]
  },
  {
   "cell_type": "code",
   "execution_count": 31,
   "id": "2626d362",
   "metadata": {},
   "outputs": [],
   "source": [
    "# val_conf_matrix = tf.math.confusion_matrix(labels=val_true_classes, predictions=val_predicted_classes).numpy()\n",
    "# print(val_conf_matrix)"
   ]
  },
  {
   "cell_type": "code",
   "execution_count": 32,
   "id": "252180a6",
   "metadata": {},
   "outputs": [],
   "source": [
    " import seaborn as sns"
   ]
  },
  {
   "cell_type": "code",
   "execution_count": 33,
   "id": "73a82196",
   "metadata": {},
   "outputs": [],
   "source": [
    "# figure1 = plt.figure()\n",
    "# val_conf_matrix = val_conf_matrix.astype('float') / val_conf_matrix.sum(axis=1)[:, np.newaxis]\n",
    "# sns.heatmap(val_conf_matrix, annot = True, cmap=plt.cm.Greens)\n",
    "# plt.tight_layout()\n",
    "# plt.ylabel('True Label')\n",
    "# plt.xlabel('Predicted label')\n",
    "# plt.savefig('Validation data Confusion Matrix', dpi=250)"
   ]
  },
  {
   "cell_type": "code",
   "execution_count": 34,
   "id": "5f75e195",
   "metadata": {},
   "outputs": [
    {
     "name": "stdout",
     "output_type": "stream",
     "text": [
      "Testing the model\n",
      "113/113 [==============================] - 21s 185ms/step - loss: 0.0042 - acc: 0.9992\n"
     ]
    }
   ],
   "source": [
    "print('Testing the model')\n",
    "final_result = model1.evaluate(\n",
    "    test_dataset,\n",
    "    #steps = 3591\n",
    ")"
   ]
  },
  {
   "cell_type": "code",
   "execution_count": 35,
   "id": "04740e97",
   "metadata": {},
   "outputs": [
    {
     "name": "stdout",
     "output_type": "stream",
     "text": [
      "113/113 [==============================] - 22s 182ms/step\n"
     ]
    }
   ],
   "source": [
    "#test_dataset.reset()\n",
    "predict_on_test_data = model1.predict(\n",
    "    test_dataset,\n",
    "    #steps = 3591,\n",
    "    verbose = 1\n",
    ")"
   ]
  },
  {
   "cell_type": "code",
   "execution_count": 36,
   "id": "f47c53c8",
   "metadata": {},
   "outputs": [
    {
     "name": "stdout",
     "output_type": "stream",
     "text": [
      "Number of data points in test set: 3591\n"
     ]
    }
   ],
   "source": [
    "print('Number of data points in test set:',predict_on_test_data.shape[0])"
   ]
  },
  {
   "cell_type": "code",
   "execution_count": 37,
   "id": "d354944e",
   "metadata": {},
   "outputs": [],
   "source": [
    "predicted_classes = np.argmax(predict_on_test_data,axis=1)\n",
    "predict_true_classes = test_dataset.classes\n",
    "predict_class_labels = list(test_dataset.class_indices.keys())"
   ]
  },
  {
   "cell_type": "code",
   "execution_count": 38,
   "id": "55b1a192",
   "metadata": {},
   "outputs": [
    {
     "name": "stdout",
     "output_type": "stream",
     "text": [
      "              precision    recall  f1-score   support\n",
      "\n",
      "   BD Normal       1.00      1.00      1.00      1936\n",
      " BD Parallel       1.00      1.00      1.00      1655\n",
      "\n",
      "    accuracy                           1.00      3591\n",
      "   macro avg       1.00      1.00      1.00      3591\n",
      "weighted avg       1.00      1.00      1.00      3591\n",
      "\n"
     ]
    }
   ],
   "source": [
    "test_report = metrics.classification_report(predict_true_classes, predicted_classes, target_names = predict_class_labels)\n",
    "print(test_report)"
   ]
  },
  {
   "cell_type": "code",
   "execution_count": 39,
   "id": "b622ba60",
   "metadata": {},
   "outputs": [
    {
     "name": "stdout",
     "output_type": "stream",
     "text": [
      "[[1934    2]\n",
      " [   1 1654]]\n"
     ]
    }
   ],
   "source": [
    "test_confusion_matrix = tf.math.confusion_matrix(labels=predict_true_classes,predictions = predicted_classes).numpy()\n",
    "print(test_confusion_matrix)"
   ]
  },
  {
   "cell_type": "code",
   "execution_count": 42,
   "id": "fc1172f0",
   "metadata": {},
   "outputs": [
    {
     "data": {
      "image/png": "[encoded data removed]",
      "text/plain": [
       "<Figure size 432x288 with 2 Axes>"
      ]
     },
     "metadata": {
      "needs_background": "light"
     },
     "output_type": "display_data"
    }
   ],
   "source": [
    "import seaborn as sns\n",
    "import matplotlib.pyplot as plt\n",
    "import numpy as np\n",
    "\n",
    "test_confusion_matrix = tf.math.confusion_matrix(labels=predict_true_classes, predictions=predicted_classes).numpy()\n",
    "\n",
    "sns.heatmap(test_confusion_matrix, annot=True, fmt='d', cmap='Blues')\n",
    "plt.xlabel('Predicted Classes')\n",
    "plt.ylabel('True Classes')\n",
    "plt.savefig('Test data Confusion Matrix', dpi=250)\n",
    "plt.show()\n",
    "plt.show()"
   ]
  },
  {
   "cell_type": "code",
   "execution_count": 43,
   "id": "e5cacdef",
   "metadata": {},
   "outputs": [
    {
     "data": {
      "image/png": "[encoded data removed]",
      "text/plain": [
       "<Figure size 432x288 with 2 Axes>"
      ]
     },
     "metadata": {
      "needs_background": "light"
     },
     "output_type": "display_data"
    }
   ],
   "source": [
    "figure1 = plt.figure()\n",
    "test_confusion_matrix = test_confusion_matrix.astype('float') / test_confusion_matrix.sum(axis=1)[:, np.newaxis]\n",
    "sns.heatmap(test_confusion_matrix, annot = True, cmap=plt.cm.Greens)\n",
    "plt.tight_layout()\n",
    "plt.ylabel('True Label')\n",
    "plt.xlabel('Predicted label')\n",
    "plt.savefig('Test data Confusion Matrix', dpi=250)\n",
    "plt.show()"
   ]
  },
  {
   "cell_type": "code",
   "execution_count": null,
   "id": "313a599c",
   "metadata": {},
   "outputs": [],
   "source": []
  },
  {
   "cell_type": "code",
   "execution_count": null,
   "id": "ba07827f",
   "metadata": {},
   "outputs": [],
   "source": []
  },
  {
   "cell_type": "code",
   "execution_count": null,
   "id": "188ab4d9",
   "metadata": {},
   "outputs": [],
   "source": []
  }
 ],
 "metadata": {
  "kernelspec": {
   "display_name": "Python 3 (ipykernel)",
   "language": "python",
   "name": "python3"
  },
  "language_info": {
   "codemirror_mode": {
    "name": "ipython",
    "version": 3
   },
   "file_extension": ".py",
   "mimetype": "text/x-python",
   "name": "python",
   "nbconvert_exporter": "python",
   "pygments_lexer": "ipython3",
   "version": "3.9.7"
  }
 },
 "nbformat": 4,
 "nbformat_minor": 5
}
